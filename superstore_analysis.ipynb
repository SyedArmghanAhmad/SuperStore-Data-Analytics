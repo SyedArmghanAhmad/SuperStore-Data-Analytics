{
  "cells": [
    {
      "cell_type": "code",
      "execution_count": 1,
      "metadata": {
        "id": "p6dyd7RdYKtg"
      },
      "outputs": [],
      "source": [
        "import numpy as np\n",
        "import pandas as pd\n",
        "import matplotlib.pyplot as plt\n",
        "import seaborn as sns\n",
        "import plotly.graph_objects as go\n",
        "import plotly.express as px\n",
        "import kaleido\n"
      ]
    },
    {
      "cell_type": "code",
      "execution_count": 2,
      "metadata": {
        "id": "Q2KHHa0TYrZJ"
      },
      "outputs": [],
      "source": [
        "df = pd.read_csv(r\"E:\\SuperStore-Data-Analytics\\Data\\train.csv\")\n",
        "output = r\"E:\\SuperStore-Data-Analytics\\Output\\Visualizations\"\n"
      ]
    },
    {
      "cell_type": "code",
      "execution_count": 45,
      "metadata": {
        "colab": {
          "base_uri": "https://localhost:8080/",
          "height": 556
        },
        "id": "QcW0TOUJY4iy",
        "outputId": "b6554d1a-a207-4d82-fa90-ce286a94d895"
      },
      "outputs": [
        {
          "name": "stdout",
          "output_type": "stream",
          "text": [
            "---Displaying Dataset before any changes---\n"
          ]
        },
        {
          "data": {
            "text/html": [
              "<div>\n",
              "<style scoped>\n",
              "    .dataframe tbody tr th:only-of-type {\n",
              "        vertical-align: middle;\n",
              "    }\n",
              "\n",
              "    .dataframe tbody tr th {\n",
              "        vertical-align: top;\n",
              "    }\n",
              "\n",
              "    .dataframe thead th {\n",
              "        text-align: right;\n",
              "    }\n",
              "</style>\n",
              "<table border=\"1\" class=\"dataframe\">\n",
              "  <thead>\n",
              "    <tr style=\"text-align: right;\">\n",
              "      <th></th>\n",
              "      <th>Row ID</th>\n",
              "      <th>Order ID</th>\n",
              "      <th>Order Date</th>\n",
              "      <th>Ship Date</th>\n",
              "      <th>Ship Mode</th>\n",
              "      <th>Customer ID</th>\n",
              "      <th>Customer Name</th>\n",
              "      <th>Segment</th>\n",
              "      <th>Country</th>\n",
              "      <th>City</th>\n",
              "      <th>State</th>\n",
              "      <th>Postal Code</th>\n",
              "      <th>Region</th>\n",
              "      <th>Product ID</th>\n",
              "      <th>Category</th>\n",
              "      <th>Sub-Category</th>\n",
              "      <th>Product Name</th>\n",
              "      <th>Sales</th>\n",
              "      <th>Abbreviation</th>\n",
              "    </tr>\n",
              "  </thead>\n",
              "  <tbody>\n",
              "    <tr>\n",
              "      <th>0</th>\n",
              "      <td>1</td>\n",
              "      <td>CA-2017-152156</td>\n",
              "      <td>2017-11-08</td>\n",
              "      <td>11/11/2017</td>\n",
              "      <td>Second Class</td>\n",
              "      <td>CG-12520</td>\n",
              "      <td>Claire Gute</td>\n",
              "      <td>Consumer</td>\n",
              "      <td>United States</td>\n",
              "      <td>Henderson</td>\n",
              "      <td>Kentucky</td>\n",
              "      <td>42420</td>\n",
              "      <td>South</td>\n",
              "      <td>FUR-BO-10001798</td>\n",
              "      <td>Furniture</td>\n",
              "      <td>Bookcases</td>\n",
              "      <td>Bush Somerset Collection Bookcase</td>\n",
              "      <td>261.9600</td>\n",
              "      <td>KY</td>\n",
              "    </tr>\n",
              "    <tr>\n",
              "      <th>1</th>\n",
              "      <td>2</td>\n",
              "      <td>CA-2017-152156</td>\n",
              "      <td>2017-11-08</td>\n",
              "      <td>11/11/2017</td>\n",
              "      <td>Second Class</td>\n",
              "      <td>CG-12520</td>\n",
              "      <td>Claire Gute</td>\n",
              "      <td>Consumer</td>\n",
              "      <td>United States</td>\n",
              "      <td>Henderson</td>\n",
              "      <td>Kentucky</td>\n",
              "      <td>42420</td>\n",
              "      <td>South</td>\n",
              "      <td>FUR-CH-10000454</td>\n",
              "      <td>Furniture</td>\n",
              "      <td>Chairs</td>\n",
              "      <td>Hon Deluxe Fabric Upholstered Stacking Chairs,...</td>\n",
              "      <td>731.9400</td>\n",
              "      <td>KY</td>\n",
              "    </tr>\n",
              "    <tr>\n",
              "      <th>2</th>\n",
              "      <td>3</td>\n",
              "      <td>CA-2017-138688</td>\n",
              "      <td>2017-06-12</td>\n",
              "      <td>16/06/2017</td>\n",
              "      <td>Second Class</td>\n",
              "      <td>DV-13045</td>\n",
              "      <td>Darrin Van Huff</td>\n",
              "      <td>Corporate</td>\n",
              "      <td>United States</td>\n",
              "      <td>Los Angeles</td>\n",
              "      <td>California</td>\n",
              "      <td>90036</td>\n",
              "      <td>West</td>\n",
              "      <td>OFF-LA-10000240</td>\n",
              "      <td>Office Supplies</td>\n",
              "      <td>Labels</td>\n",
              "      <td>Self-Adhesive Address Labels for Typewriters b...</td>\n",
              "      <td>14.6200</td>\n",
              "      <td>CA</td>\n",
              "    </tr>\n",
              "    <tr>\n",
              "      <th>3</th>\n",
              "      <td>4</td>\n",
              "      <td>US-2016-108966</td>\n",
              "      <td>2016-10-11</td>\n",
              "      <td>18/10/2016</td>\n",
              "      <td>Standard Class</td>\n",
              "      <td>SO-20335</td>\n",
              "      <td>Sean O'Donnell</td>\n",
              "      <td>Consumer</td>\n",
              "      <td>United States</td>\n",
              "      <td>Fort Lauderdale</td>\n",
              "      <td>Florida</td>\n",
              "      <td>33311</td>\n",
              "      <td>South</td>\n",
              "      <td>FUR-TA-10000577</td>\n",
              "      <td>Furniture</td>\n",
              "      <td>Tables</td>\n",
              "      <td>Bretford CR4500 Series Slim Rectangular Table</td>\n",
              "      <td>957.5775</td>\n",
              "      <td>FL</td>\n",
              "    </tr>\n",
              "    <tr>\n",
              "      <th>4</th>\n",
              "      <td>5</td>\n",
              "      <td>US-2016-108966</td>\n",
              "      <td>2016-10-11</td>\n",
              "      <td>18/10/2016</td>\n",
              "      <td>Standard Class</td>\n",
              "      <td>SO-20335</td>\n",
              "      <td>Sean O'Donnell</td>\n",
              "      <td>Consumer</td>\n",
              "      <td>United States</td>\n",
              "      <td>Fort Lauderdale</td>\n",
              "      <td>Florida</td>\n",
              "      <td>33311</td>\n",
              "      <td>South</td>\n",
              "      <td>OFF-ST-10000760</td>\n",
              "      <td>Office Supplies</td>\n",
              "      <td>Storage</td>\n",
              "      <td>Eldon Fold 'N Roll Cart System</td>\n",
              "      <td>22.3680</td>\n",
              "      <td>FL</td>\n",
              "    </tr>\n",
              "  </tbody>\n",
              "</table>\n",
              "</div>"
            ],
            "text/plain": [
              "   Row ID        Order ID Order Date   Ship Date       Ship Mode Customer ID  \\\n",
              "0       1  CA-2017-152156 2017-11-08  11/11/2017    Second Class    CG-12520   \n",
              "1       2  CA-2017-152156 2017-11-08  11/11/2017    Second Class    CG-12520   \n",
              "2       3  CA-2017-138688 2017-06-12  16/06/2017    Second Class    DV-13045   \n",
              "3       4  US-2016-108966 2016-10-11  18/10/2016  Standard Class    SO-20335   \n",
              "4       5  US-2016-108966 2016-10-11  18/10/2016  Standard Class    SO-20335   \n",
              "\n",
              "     Customer Name    Segment        Country             City       State  \\\n",
              "0      Claire Gute   Consumer  United States        Henderson    Kentucky   \n",
              "1      Claire Gute   Consumer  United States        Henderson    Kentucky   \n",
              "2  Darrin Van Huff  Corporate  United States      Los Angeles  California   \n",
              "3   Sean O'Donnell   Consumer  United States  Fort Lauderdale     Florida   \n",
              "4   Sean O'Donnell   Consumer  United States  Fort Lauderdale     Florida   \n",
              "\n",
              "   Postal Code Region       Product ID         Category Sub-Category  \\\n",
              "0        42420  South  FUR-BO-10001798        Furniture    Bookcases   \n",
              "1        42420  South  FUR-CH-10000454        Furniture       Chairs   \n",
              "2        90036   West  OFF-LA-10000240  Office Supplies       Labels   \n",
              "3        33311  South  FUR-TA-10000577        Furniture       Tables   \n",
              "4        33311  South  OFF-ST-10000760  Office Supplies      Storage   \n",
              "\n",
              "                                        Product Name     Sales Abbreviation  \n",
              "0                  Bush Somerset Collection Bookcase  261.9600           KY  \n",
              "1  Hon Deluxe Fabric Upholstered Stacking Chairs,...  731.9400           KY  \n",
              "2  Self-Adhesive Address Labels for Typewriters b...   14.6200           CA  \n",
              "3      Bretford CR4500 Series Slim Rectangular Table  957.5775           FL  \n",
              "4                     Eldon Fold 'N Roll Cart System   22.3680           FL  "
            ]
          },
          "execution_count": 45,
          "metadata": {},
          "output_type": "execute_result"
        }
      ],
      "source": [
        "print(\"---Displaying Dataset before any changes---\")\n",
        "df.head()"
      ]
    },
    {
      "cell_type": "code",
      "execution_count": 4,
      "metadata": {
        "colab": {
          "base_uri": "https://localhost:8080/"
        },
        "id": "EIJVShSKZNKk",
        "outputId": "24cb409c-298f-4f33-84d7-1168d3aca2a6"
      },
      "outputs": [
        {
          "name": "stdout",
          "output_type": "stream",
          "text": [
            "--Checking for missing Values---\n",
            "<class 'pandas.core.frame.DataFrame'>\n",
            "RangeIndex: 9800 entries, 0 to 9799\n",
            "Data columns (total 18 columns):\n",
            " #   Column         Non-Null Count  Dtype  \n",
            "---  ------         --------------  -----  \n",
            " 0   Row ID         9800 non-null   int64  \n",
            " 1   Order ID       9800 non-null   object \n",
            " 2   Order Date     9800 non-null   object \n",
            " 3   Ship Date      9800 non-null   object \n",
            " 4   Ship Mode      9800 non-null   object \n",
            " 5   Customer ID    9800 non-null   object \n",
            " 6   Customer Name  9800 non-null   object \n",
            " 7   Segment        9800 non-null   object \n",
            " 8   Country        9800 non-null   object \n",
            " 9   City           9800 non-null   object \n",
            " 10  State          9800 non-null   object \n",
            " 11  Postal Code    9789 non-null   float64\n",
            " 12  Region         9800 non-null   object \n",
            " 13  Product ID     9800 non-null   object \n",
            " 14  Category       9800 non-null   object \n",
            " 15  Sub-Category   9800 non-null   object \n",
            " 16  Product Name   9800 non-null   object \n",
            " 17  Sales          9800 non-null   float64\n",
            "dtypes: float64(2), int64(1), object(15)\n",
            "memory usage: 1.3+ MB\n"
          ]
        }
      ],
      "source": [
        "print(\"--Checking for missing Values---\")\n",
        "df.info()"
      ]
    },
    {
      "cell_type": "code",
      "execution_count": 5,
      "metadata": {
        "colab": {
          "base_uri": "https://localhost:8080/"
        },
        "id": "cdZ3lB58Zin_",
        "outputId": "6551862d-d5de-4731-a21d-ed51953f81a0"
      },
      "outputs": [
        {
          "name": "stdout",
          "output_type": "stream",
          "text": [
            "--Filling missing Values---\n"
          ]
        },
        {
          "name": "stderr",
          "output_type": "stream",
          "text": [
            "C:\\Users\\Armghan\\AppData\\Local\\Temp\\ipykernel_11888\\3283373106.py:3: FutureWarning: A value is trying to be set on a copy of a DataFrame or Series through chained assignment using an inplace method.\n",
            "The behavior will change in pandas 3.0. This inplace method will never work because the intermediate object on which we are setting values always behaves as a copy.\n",
            "\n",
            "For example, when doing 'df[col].method(value, inplace=True)', try using 'df.method({col: value}, inplace=True)' or df[col] = df[col].method(value) instead, to perform the operation inplace on the original object.\n",
            "\n",
            "\n",
            "  df[\"Postal Code\"].fillna(0,inplace = True)\n"
          ]
        }
      ],
      "source": [
        "# Filling the null values in this case 11 postal codes are missing\n",
        "print(\"--Filling missing Values---\")\n",
        "df[\"Postal Code\"].fillna(0, inplace = True)\n",
        "df[\"Postal Code\"] = df[\"Postal Code\"].astype(int)"
      ]
    },
    {
      "cell_type": "code",
      "execution_count": 46,
      "metadata": {
        "colab": {
          "base_uri": "https://localhost:8080/"
        },
        "id": "EjTAXkw3aDAI",
        "outputId": "557a57f9-a447-4cce-fdc7-42cd88c1ac29"
      },
      "outputs": [
        {
          "name": "stdout",
          "output_type": "stream",
          "text": [
            "---Checking for missing Values after filling---\n",
            "<class 'pandas.core.frame.DataFrame'>\n",
            "RangeIndex: 9800 entries, 0 to 9799\n",
            "Data columns (total 19 columns):\n",
            " #   Column         Non-Null Count  Dtype         \n",
            "---  ------         --------------  -----         \n",
            " 0   Row ID         9800 non-null   int64         \n",
            " 1   Order ID       9800 non-null   object        \n",
            " 2   Order Date     9800 non-null   datetime64[ns]\n",
            " 3   Ship Date      9800 non-null   object        \n",
            " 4   Ship Mode      9800 non-null   object        \n",
            " 5   Customer ID    9800 non-null   object        \n",
            " 6   Customer Name  9800 non-null   object        \n",
            " 7   Segment        9800 non-null   object        \n",
            " 8   Country        9800 non-null   object        \n",
            " 9   City           9800 non-null   object        \n",
            " 10  State          9800 non-null   object        \n",
            " 11  Postal Code    9800 non-null   int64         \n",
            " 12  Region         9800 non-null   object        \n",
            " 13  Product ID     9800 non-null   object        \n",
            " 14  Category       9800 non-null   object        \n",
            " 15  Sub-Category   9800 non-null   object        \n",
            " 16  Product Name   9800 non-null   object        \n",
            " 17  Sales          9800 non-null   float64       \n",
            " 18  Abbreviation   9790 non-null   object        \n",
            "dtypes: datetime64[ns](1), float64(1), int64(2), object(15)\n",
            "memory usage: 1.4+ MB\n"
          ]
        }
      ],
      "source": [
        "#Checking the missing values again\n",
        "print(\"---Checking for missing Values after filling---\")\n",
        "df.info()"
      ]
    },
    {
      "cell_type": "code",
      "execution_count": 47,
      "metadata": {
        "colab": {
          "base_uri": "https://localhost:8080/"
        },
        "id": "p208qAslaakq",
        "outputId": "2b0db7c5-75fd-4388-b17d-3ca4f14770fa"
      },
      "outputs": [
        {
          "name": "stdout",
          "output_type": "stream",
          "text": [
            "---Checking for duplicates---\n",
            "No Duplicates in this Dataset\n"
          ]
        }
      ],
      "source": [
        "print(\"---Checking for duplicates---\")\n",
        "# Checking for duplicates\n",
        "if df.duplicated().sum() > 0:\n",
        "  print(\"Duplicates Exists\")\n",
        "else:\n",
        "  print(\"No Duplicates in this Dataset\")\n",
        "\n"
      ]
    },
    {
      "cell_type": "code",
      "execution_count": 8,
      "metadata": {
        "colab": {
          "base_uri": "https://localhost:8080/",
          "height": 389
        },
        "id": "ftbhEIO7avmS",
        "outputId": "686f148c-dc52-4645-c11b-89ce233c536b"
      },
      "outputs": [
        {
          "name": "stdout",
          "output_type": "stream",
          "text": [
            "--- Displaying the Dataset after fixing missing values---\n"
          ]
        },
        {
          "data": {
            "text/html": [
              "<div>\n",
              "<style scoped>\n",
              "    .dataframe tbody tr th:only-of-type {\n",
              "        vertical-align: middle;\n",
              "    }\n",
              "\n",
              "    .dataframe tbody tr th {\n",
              "        vertical-align: top;\n",
              "    }\n",
              "\n",
              "    .dataframe thead th {\n",
              "        text-align: right;\n",
              "    }\n",
              "</style>\n",
              "<table border=\"1\" class=\"dataframe\">\n",
              "  <thead>\n",
              "    <tr style=\"text-align: right;\">\n",
              "      <th></th>\n",
              "      <th>Row ID</th>\n",
              "      <th>Order ID</th>\n",
              "      <th>Order Date</th>\n",
              "      <th>Ship Date</th>\n",
              "      <th>Ship Mode</th>\n",
              "      <th>Customer ID</th>\n",
              "      <th>Customer Name</th>\n",
              "      <th>Segment</th>\n",
              "      <th>Country</th>\n",
              "      <th>City</th>\n",
              "      <th>State</th>\n",
              "      <th>Postal Code</th>\n",
              "      <th>Region</th>\n",
              "      <th>Product ID</th>\n",
              "      <th>Category</th>\n",
              "      <th>Sub-Category</th>\n",
              "      <th>Product Name</th>\n",
              "      <th>Sales</th>\n",
              "    </tr>\n",
              "  </thead>\n",
              "  <tbody>\n",
              "    <tr>\n",
              "      <th>0</th>\n",
              "      <td>1</td>\n",
              "      <td>CA-2017-152156</td>\n",
              "      <td>08/11/2017</td>\n",
              "      <td>11/11/2017</td>\n",
              "      <td>Second Class</td>\n",
              "      <td>CG-12520</td>\n",
              "      <td>Claire Gute</td>\n",
              "      <td>Consumer</td>\n",
              "      <td>United States</td>\n",
              "      <td>Henderson</td>\n",
              "      <td>Kentucky</td>\n",
              "      <td>42420</td>\n",
              "      <td>South</td>\n",
              "      <td>FUR-BO-10001798</td>\n",
              "      <td>Furniture</td>\n",
              "      <td>Bookcases</td>\n",
              "      <td>Bush Somerset Collection Bookcase</td>\n",
              "      <td>261.96</td>\n",
              "    </tr>\n",
              "    <tr>\n",
              "      <th>1</th>\n",
              "      <td>2</td>\n",
              "      <td>CA-2017-152156</td>\n",
              "      <td>08/11/2017</td>\n",
              "      <td>11/11/2017</td>\n",
              "      <td>Second Class</td>\n",
              "      <td>CG-12520</td>\n",
              "      <td>Claire Gute</td>\n",
              "      <td>Consumer</td>\n",
              "      <td>United States</td>\n",
              "      <td>Henderson</td>\n",
              "      <td>Kentucky</td>\n",
              "      <td>42420</td>\n",
              "      <td>South</td>\n",
              "      <td>FUR-CH-10000454</td>\n",
              "      <td>Furniture</td>\n",
              "      <td>Chairs</td>\n",
              "      <td>Hon Deluxe Fabric Upholstered Stacking Chairs,...</td>\n",
              "      <td>731.94</td>\n",
              "    </tr>\n",
              "    <tr>\n",
              "      <th>2</th>\n",
              "      <td>3</td>\n",
              "      <td>CA-2017-138688</td>\n",
              "      <td>12/06/2017</td>\n",
              "      <td>16/06/2017</td>\n",
              "      <td>Second Class</td>\n",
              "      <td>DV-13045</td>\n",
              "      <td>Darrin Van Huff</td>\n",
              "      <td>Corporate</td>\n",
              "      <td>United States</td>\n",
              "      <td>Los Angeles</td>\n",
              "      <td>California</td>\n",
              "      <td>90036</td>\n",
              "      <td>West</td>\n",
              "      <td>OFF-LA-10000240</td>\n",
              "      <td>Office Supplies</td>\n",
              "      <td>Labels</td>\n",
              "      <td>Self-Adhesive Address Labels for Typewriters b...</td>\n",
              "      <td>14.62</td>\n",
              "    </tr>\n",
              "  </tbody>\n",
              "</table>\n",
              "</div>"
            ],
            "text/plain": [
              "   Row ID        Order ID  Order Date   Ship Date     Ship Mode Customer ID  \\\n",
              "0       1  CA-2017-152156  08/11/2017  11/11/2017  Second Class    CG-12520   \n",
              "1       2  CA-2017-152156  08/11/2017  11/11/2017  Second Class    CG-12520   \n",
              "2       3  CA-2017-138688  12/06/2017  16/06/2017  Second Class    DV-13045   \n",
              "\n",
              "     Customer Name    Segment        Country         City       State  \\\n",
              "0      Claire Gute   Consumer  United States    Henderson    Kentucky   \n",
              "1      Claire Gute   Consumer  United States    Henderson    Kentucky   \n",
              "2  Darrin Van Huff  Corporate  United States  Los Angeles  California   \n",
              "\n",
              "   Postal Code Region       Product ID         Category Sub-Category  \\\n",
              "0        42420  South  FUR-BO-10001798        Furniture    Bookcases   \n",
              "1        42420  South  FUR-CH-10000454        Furniture       Chairs   \n",
              "2        90036   West  OFF-LA-10000240  Office Supplies       Labels   \n",
              "\n",
              "                                        Product Name   Sales  \n",
              "0                  Bush Somerset Collection Bookcase  261.96  \n",
              "1  Hon Deluxe Fabric Upholstered Stacking Chairs,...  731.94  \n",
              "2  Self-Adhesive Address Labels for Typewriters b...   14.62  "
            ]
          },
          "execution_count": 8,
          "metadata": {},
          "output_type": "execute_result"
        }
      ],
      "source": [
        "print(\"--- Displaying the Dataset after fixing missing values---\")\n",
        "df.head(3)"
      ]
    },
    {
      "cell_type": "code",
      "execution_count": 9,
      "metadata": {
        "id": "Gn0RBWG8bf6z"
      },
      "outputs": [],
      "source": [
        "# now most companies struggle with actual segmentation of customers they dont have any idea about different types of customers they bring they rely on presence of mind rather than actual data so here we\n",
        "#will focus on customer segmentation"
      ]
    },
    {
      "cell_type": "code",
      "execution_count": 10,
      "metadata": {
        "colab": {
          "base_uri": "https://localhost:8080/"
        },
        "id": "VvtRYbBmbvz8",
        "outputId": "e0a2cf9d-20fd-43dd-d434-5a7bf2ef1128"
      },
      "outputs": [
        {
          "name": "stdout",
          "output_type": "stream",
          "text": [
            "---Types of customers---\n",
            "['Consumer' 'Corporate' 'Home Office']\n"
          ]
        }
      ],
      "source": [
        "types_of_customers = df['Segment'].unique()\n",
        "print(\"---Types of customers---\")\n",
        "print(types_of_customers)"
      ]
    },
    {
      "cell_type": "code",
      "execution_count": 11,
      "metadata": {
        "colab": {
          "base_uri": "https://localhost:8080/"
        },
        "id": "2bFjDY-icVMp",
        "outputId": "6bb68d9d-c45d-41db-a310-a7bf0a9ec3fc"
      },
      "outputs": [
        {
          "name": "stdout",
          "output_type": "stream",
          "text": [
            "---Number of Customers---\n",
            "  Type of Customers  count\n",
            "0          Consumer   5101\n",
            "1         Corporate   2953\n",
            "2       Home Office   1746\n"
          ]
        }
      ],
      "source": [
        "#now to determine number of customers\n",
        "num_of_customers = df['Segment'].value_counts().reset_index()\n",
        "num_of_customers = num_of_customers.rename(columns = {'Segment' : 'Type of Customers'})\n",
        "\n",
        "print(\"---Number of Customers---\")\n",
        "print(num_of_customers)\n"
      ]
    },
    {
      "cell_type": "code",
      "execution_count": 12,
      "metadata": {
        "colab": {
          "base_uri": "https://localhost:8080/",
          "height": 406
        },
        "id": "LamojlHBcxL2",
        "outputId": "7d0ee004-9961-4bfb-cfff-95b88873226c"
      },
      "outputs": [
        {
          "data": {
            "image/png": "[encoded data removed]",
            "text/plain": [
              "<Figure size 640x480 with 1 Axes>"
            ]
          },
          "metadata": {},
          "output_type": "display_data"
        }
      ],
      "source": [
        "plt.pie(num_of_customers['count'], labels = num_of_customers['Type of Customers'], autopct = '%1.1f%%')\n",
        "plt.title('Customer Segmentation')\n",
        "plt.savefig(f\"{output}/Customer_Segmentation_by_type_pie_chart.jpg\",format='jpg', dpi=300 ,bbox_inches='tight')\n",
        "plt.show()\n"
      ]
    },
    {
      "cell_type": "code",
      "execution_count": 13,
      "metadata": {
        "colab": {
          "base_uri": "https://localhost:8080/",
          "height": 541
        },
        "id": "7rrozTaKezFN",
        "outputId": "a660540f-cbc5-4a47-9c3d-44374d3ec561"
      },
      "outputs": [
        {
          "name": "stdout",
          "output_type": "stream",
          "text": [
            "--- Displaying Sales per Segment ---\n",
            "  Type of Customer   Total Sales\n",
            "0         Consumer  1.148061e+06\n",
            "1        Corporate  6.884941e+05\n",
            "2      Home Office  4.249822e+05\n"
          ]
        },
        {
          "data": {
            "image/png": "[encoded data removed]",
            "text/plain": [
              "<Figure size 640x480 with 1 Axes>"
            ]
          },
          "metadata": {},
          "output_type": "display_data"
        }
      ],
      "source": [
        "#now we'll balance resource allocation for all 3 segments of customer to maximize growth\n",
        "#to gain a deeper insight we should integrate our customer data with sales_figures\n",
        "#this analysis will help us identify which segment generated most sales\n",
        "sales_per_segment = df.groupby('Segment')['Sales'].sum().reset_index()\n",
        "sales_per_segment = sales_per_segment.rename(columns = {'Segment' : 'Type of Customer', 'Sales' : 'Total Sales'})\n",
        "print(\"--- Displaying Sales per Segment ---\")\n",
        "print(sales_per_segment)\n",
        "\n",
        "plt.bar(sales_per_segment['Type of Customer'], sales_per_segment['Total Sales'])\n",
        "plt.xlabel('Type of Customer')\n",
        "plt.ylabel('Total Sales')\n",
        "plt.title('Total Sales per Customer Segment')\n",
        "plt.savefig(f\"{output}/Total_Sales_per_customer_segment_bar_chart.jpg\",format='jpg', dpi=300, bbox_inches='tight')\n",
        "plt.show()\n"
      ]
    },
    {
      "cell_type": "code",
      "execution_count": 14,
      "metadata": {
        "colab": {
          "base_uri": "https://localhost:8080/",
          "height": 406
        },
        "id": "zmwgnb1WlIVx",
        "outputId": "e8c0807a-109b-422a-e719-ffe7176f5a3c"
      },
      "outputs": [
        {
          "data": {
            "image/png": "[encoded data removed]",
            "text/plain": [
              "<Figure size 640x480 with 1 Axes>"
            ]
          },
          "metadata": {},
          "output_type": "display_data"
        }
      ],
      "source": [
        "# now lets calculate customer lifetime value CLTV of each segment\n",
        "plt.pie(sales_per_segment['Total Sales'], labels = sales_per_segment['Type of Customer'], autopct = '%1.1f%%')\n",
        "plt.title('Customer segmentation by total sales')\n",
        "plt.savefig(f\"{output}/Customer_segmentation_by_total_sales_pie_chart.jpg\",format='jpg', dpi=300, bbox_inches='tight')\n",
        "plt.show()"
      ]
    },
    {
      "cell_type": "code",
      "execution_count": 15,
      "metadata": {
        "colab": {
          "base_uri": "https://localhost:8080/"
        },
        "id": "53zZwhKx1g4h",
        "outputId": "40bf63d9-130f-4558-b5f9-a193347d0df4"
      },
      "outputs": [
        {
          "name": "stdout",
          "output_type": "stream",
          "text": [
            "---Displaying the Repeated Customers---\n",
            "   Customer ID        Customer Name      Segment  Total Orders\n",
            "0     WB-21850        William Brown     Consumer            35\n",
            "1     PP-18955           Paul Prost  Home Office            34\n",
            "2     MA-17560         Matt Abelman  Home Office            34\n",
            "3     JL-15835             John Lee     Consumer            33\n",
            "4     SV-20365          Seth Vernon     Consumer            32\n",
            "5     JD-15895     Jonathan Doherty    Corporate            32\n",
            "6     CK-12205  Chloris Kastensmidt     Consumer            32\n",
            "7     AP-10915       Arthur Prichep     Consumer            31\n",
            "8     ZC-21910     Zuschuss Carroll     Consumer            31\n",
            "9     EP-13915           Emily Phan     Consumer            31\n",
            "10    LC-16870        Lena Cacioppo     Consumer            30\n",
            "11    BM-11650           Brian Moss    Corporate            29\n"
          ]
        }
      ],
      "source": [
        "# Group by 'Customer ID', 'Customer Name', 'Segment' and count 'Order ID'\n",
        "customer_order_frequency = df.groupby(['Customer ID', 'Customer Name', 'Segment'])['Order ID'].count().reset_index()\n",
        "\n",
        "# Rename the column correctly without using inplace\n",
        "customer_order_frequency = customer_order_frequency.rename(columns={'Order ID': 'Total Orders'})\n",
        "\n",
        "# Filter customers with at least one order\n",
        "repeat_customers = customer_order_frequency[customer_order_frequency['Total Orders'] >= 1]\n",
        "\n",
        "# Sort customers by 'Total Orders' in descending order\n",
        "repeat_customers_sorted = repeat_customers.sort_values(by='Total Orders', ascending=False)\n",
        "\n",
        "print(\"---Displaying the Repeated Customers---\")\n",
        "# Print the required results\n",
        "print(repeat_customers_sorted.head(12).reset_index(drop=True))\n",
        "\n"
      ]
    },
    {
      "cell_type": "code",
      "execution_count": 16,
      "metadata": {
        "colab": {
          "base_uri": "https://localhost:8080/"
        },
        "id": "7rkrvtfIUHwZ",
        "outputId": "c83b42bb-cd4b-4fba-b227-158312341768"
      },
      "outputs": [
        {
          "name": "stdout",
          "output_type": "stream",
          "text": [
            "---Displaying the Top Spending Customers---\n",
            "   Customer ID       Customer Name      Segment      Sales\n",
            "0     SM-20320         Sean Miller  Home Office  25043.050\n",
            "1     TC-20980        Tamara Chand    Corporate  19052.218\n",
            "2     RB-19360        Raymond Buch     Consumer  15117.339\n",
            "3     TA-21385        Tom Ashbrook  Home Office  14595.620\n",
            "4     AB-10105       Adrian Barton     Consumer  14473.571\n",
            "5     KL-16645        Ken Lonsdale     Consumer  14175.229\n",
            "6     SC-20095        Sanjit Chand     Consumer  14142.334\n",
            "7     HL-15040        Hunter Lopez     Consumer  12873.298\n",
            "8     SE-20110        Sanjit Engle     Consumer  12209.438\n",
            "9     CC-12370  Christopher Conant     Consumer  12129.072\n",
            "10    TS-21370        Todd Sumrall    Corporate  11891.751\n",
            "11    GT-14710           Greg Tran     Consumer  11820.120\n"
          ]
        }
      ],
      "source": [
        "#lets identify our top spending customer\n",
        "customer_sales = df.groupby(['Customer ID', 'Customer Name', 'Segment'])['Sales'].sum().reset_index()\n",
        "top_spender = customer_sales.sort_values(by='Sales', ascending=False)\n",
        "\n",
        "print(\"---Displaying the Top Spending Customers---\")\n",
        "print(top_spender.head(12).reset_index(drop=True))"
      ]
    },
    {
      "cell_type": "code",
      "execution_count": 17,
      "metadata": {
        "colab": {
          "base_uri": "https://localhost:8080/"
        },
        "id": "X8IN1MYZX0ay",
        "outputId": "0664fa41-ecdd-429d-c4fe-56fc7c58da4b"
      },
      "outputs": [
        {
          "name": "stdout",
          "output_type": "stream",
          "text": [
            "---Displaying the Shipping Modes---\n",
            "  Mode of Shipment  count\n",
            "0   Standard Class   5859\n",
            "1     Second Class   1902\n",
            "2      First Class   1501\n",
            "3         Same Day    538\n"
          ]
        }
      ],
      "source": [
        "# now analyzing shipping methods\n",
        "shipping_models = df['Ship Mode'].value_counts().reset_index()\n",
        "shipping_models = shipping_models.rename(columns = {'index' : 'Use Frequency', 'Ship Mode' : 'Mode of Shipment'})\n",
        "\n",
        "print(\"---Displaying the Shipping Modes---\")\n",
        "print(shipping_models)\n"
      ]
    },
    {
      "cell_type": "code",
      "execution_count": 18,
      "metadata": {
        "colab": {
          "base_uri": "https://localhost:8080/",
          "height": 406
        },
        "id": "P9PlL4rnYpVT",
        "outputId": "e80c839e-6603-45cf-d2b3-5e136641a301"
      },
      "outputs": [
        {
          "data": {
            "image/png": "[encoded data removed]",
            "text/plain": [
              "<Figure size 640x480 with 1 Axes>"
            ]
          },
          "metadata": {},
          "output_type": "display_data"
        }
      ],
      "source": [
        "plt.pie(shipping_models['count'], labels = shipping_models['Mode of Shipment'], autopct = '%1.1f%%')\n",
        "plt.title('Customer Segmentation by Shipping Mode')\n",
        "plt.savefig(f\"{output}/Customer_Segmentation_by_shipping_mode_pie_chart.jpg\",format='jpg', dpi=300, bbox_inches='tight')\n",
        "plt.show()"
      ]
    },
    {
      "cell_type": "code",
      "execution_count": 19,
      "metadata": {
        "colab": {
          "base_uri": "https://localhost:8080/"
        },
        "id": "-yv4WHh2Y0He",
        "outputId": "c3889dac-9c42-43e4-a532-76ea81699c76"
      },
      "outputs": [
        {
          "name": "stdout",
          "output_type": "stream",
          "text": [
            "---Displaying the States---\n",
            "   Number of Customers  count\n",
            "0           California   1946\n",
            "1             New York   1097\n",
            "2                Texas    973\n",
            "3         Pennsylvania    582\n",
            "4           Washington    504\n",
            "5             Illinois    483\n",
            "6                 Ohio    454\n",
            "7              Florida    373\n",
            "8             Michigan    253\n",
            "9       North Carolina    247\n",
            "10            Virginia    224\n",
            "11             Arizona    223\n",
            "12           Tennessee    183\n",
            "13            Colorado    179\n",
            "14             Georgia    177\n",
            "15            Kentucky    137\n",
            "16             Indiana    135\n",
            "17       Massachusetts    135\n",
            "18              Oregon    122\n",
            "19          New Jersey    122\n"
          ]
        }
      ],
      "source": [
        "# now we analyze by states\n",
        "state = df['State'].value_counts().reset_index()\n",
        "state = state.rename(columns = {'index' : 'State', 'State' : 'Number of Customers'})\n",
        "\n",
        "print(\"---Displaying the States---\")\n",
        "print(state.head(20))"
      ]
    },
    {
      "cell_type": "code",
      "execution_count": 20,
      "metadata": {
        "colab": {
          "base_uri": "https://localhost:8080/"
        },
        "id": "sQtkoNT5a66y",
        "outputId": "47536571-d368-4203-d129-5601da6defef"
      },
      "outputs": [
        {
          "name": "stdout",
          "output_type": "stream",
          "text": [
            "---Displaying the Number of Customer per Cities---\n",
            "   Number of Customers  count\n",
            "0        New York City    891\n",
            "1          Los Angeles    728\n",
            "2         Philadelphia    532\n",
            "3        San Francisco    500\n",
            "4              Seattle    426\n",
            "5              Houston    374\n",
            "6              Chicago    308\n",
            "7             Columbus    221\n",
            "8            San Diego    170\n",
            "9          Springfield    161\n",
            "10              Dallas    156\n",
            "11        Jacksonville    125\n",
            "12             Detroit    115\n",
            "13              Newark     92\n",
            "14             Jackson     82\n",
            "15            Columbia     81\n",
            "16            Richmond     81\n",
            "17              Aurora     68\n",
            "18             Phoenix     63\n",
            "19           Arlington     60\n",
            "20         San Antonio     59\n",
            "21               Miami     56\n",
            "22          Louisville     54\n",
            "23           Rochester     53\n",
            "24          Long Beach     52\n"
          ]
        }
      ],
      "source": [
        "#now we analyze by cities\n",
        "City = df['City'].value_counts().reset_index()\n",
        "City = City.rename(columns = {'index' : 'City', 'City' : 'Number of Customers'})\n",
        "\n",
        "print(\"---Displaying the Number of Customer per Cities---\")\n",
        "print(City.head(25))"
      ]
    },
    {
      "cell_type": "code",
      "execution_count": 21,
      "metadata": {
        "colab": {
          "base_uri": "https://localhost:8080/"
        },
        "id": "YLYNmyGza8Eh",
        "outputId": "1518e179-1a99-4c34-db78-ab3f62c2099c"
      },
      "outputs": [
        {
          "name": "stdout",
          "output_type": "stream",
          "text": [
            "---Displaying the States with Highest Sales---\n",
            "             State        Sales\n",
            "0       California  446306.4635\n",
            "1         New York  306361.1470\n",
            "2            Texas  168572.5322\n",
            "3       Washington  135206.8500\n",
            "4     Pennsylvania  116276.6500\n",
            "5          Florida   88436.5320\n",
            "6         Illinois   79236.5170\n",
            "7         Michigan   76136.0740\n",
            "8             Ohio   75130.3500\n",
            "9         Virginia   70636.7200\n",
            "10  North Carolina   55165.9640\n",
            "11         Indiana   48718.4000\n",
            "12         Georgia   48219.1100\n",
            "13        Kentucky   36458.3900\n",
            "14         Arizona   35272.6570\n",
            "15      New Jersey   34610.9720\n",
            "16        Colorado   31841.5980\n",
            "17       Wisconsin   31173.4300\n",
            "18       Tennessee   30661.8730\n",
            "19       Minnesota   29863.1500\n",
            "20   Massachusetts   28634.4340\n",
            "21        Delaware   27322.9990\n",
            "22        Maryland   23705.5230\n",
            "23    Rhode Island   22525.0260\n",
            "24        Missouri   22205.1500\n"
          ]
        }
      ],
      "source": [
        "#analyzing sales by states\n",
        "state_sales  = df.groupby('State')['Sales'].sum().reset_index()\n",
        "top_sales = state_sales.sort_values(by = 'Sales', ascending = False)\n",
        "\n",
        "print(\"---Displaying the States with Highest Sales---\")\n",
        "print(top_sales.head(25).reset_index(drop = True))"
      ]
    },
    {
      "cell_type": "code",
      "execution_count": 22,
      "metadata": {
        "colab": {
          "base_uri": "https://localhost:8080/"
        },
        "id": "NytQ1Ys3b7sq",
        "outputId": "5e86c0d2-8940-450f-dd37-770518faa4c0"
      },
      "outputs": [
        {
          "name": "stdout",
          "output_type": "stream",
          "text": [
            "---Displaying the Cities with Highest Sales---\n",
            "             City        Sales\n",
            "0   New York City  252462.5470\n",
            "1     Los Angeles  173420.1810\n",
            "2         Seattle  116106.3220\n",
            "3   San Francisco  109041.1200\n",
            "4    Philadelphia  108841.7490\n",
            "5         Houston   63956.1428\n",
            "6         Chicago   47820.1330\n",
            "7       San Diego   47521.0290\n",
            "8    Jacksonville   44713.1830\n",
            "9         Detroit   42446.9440\n",
            "10    Springfield   41827.8100\n",
            "11       Columbus   38662.5630\n",
            "12         Newark   28448.0490\n",
            "13       Columbia   25283.3240\n",
            "14        Jackson   24963.8580\n",
            "15      Lafayette   24944.2800\n",
            "16    San Antonio   21843.5280\n",
            "17     Burlington   21668.0820\n",
            "18      Arlington   20214.5320\n",
            "19         Dallas   20127.9482\n",
            "20       Lakewood   18183.1070\n",
            "21       Richmond   17663.8700\n",
            "22      Henderson   17549.0680\n",
            "23        Atlanta   17197.8400\n",
            "24    Minneapolis   16870.5400\n"
          ]
        }
      ],
      "source": [
        "#now sorting it per city\n",
        "city_sales = df.groupby('City')['Sales'].sum().reset_index()\n",
        "top_city_sales = city_sales.sort_values(by = 'Sales', ascending = False)\n",
        "\n",
        "print(\"---Displaying the Cities with Highest Sales---\")\n",
        "print(top_city_sales.head(25).reset_index(drop = True))"
      ]
    },
    {
      "cell_type": "code",
      "execution_count": 23,
      "metadata": {
        "colab": {
          "base_uri": "https://localhost:8080/"
        },
        "id": "eXHfqCyjchhs",
        "outputId": "9cc2b1c3-794e-404b-8a64-f80a98b17d2d"
      },
      "outputs": [
        {
          "name": "stdout",
          "output_type": "stream",
          "text": [
            "---Displaying the Main Product Categories---\n",
            "['Furniture' 'Office Supplies' 'Technology']\n"
          ]
        }
      ],
      "source": [
        "# now working with products - first we extract product categories\n",
        "products = df['Category'].unique()\n",
        "print(\"---Displaying the Main Product Categories---\")\n",
        "print(products)"
      ]
    },
    {
      "cell_type": "code",
      "execution_count": 24,
      "metadata": {
        "colab": {
          "base_uri": "https://localhost:8080/",
          "height": 1000
        },
        "id": "6SfOtEh7czae",
        "outputId": "a2a60490-8f88-4a40-e0e4-c660e945e4fe"
      },
      "outputs": [
        {
          "name": "stdout",
          "output_type": "stream",
          "text": [
            "Printing the Dataset Again after some changes---\n"
          ]
        },
        {
          "data": {
            "text/html": [
              "<div>\n",
              "<style scoped>\n",
              "    .dataframe tbody tr th:only-of-type {\n",
              "        vertical-align: middle;\n",
              "    }\n",
              "\n",
              "    .dataframe tbody tr th {\n",
              "        vertical-align: top;\n",
              "    }\n",
              "\n",
              "    .dataframe thead th {\n",
              "        text-align: right;\n",
              "    }\n",
              "</style>\n",
              "<table border=\"1\" class=\"dataframe\">\n",
              "  <thead>\n",
              "    <tr style=\"text-align: right;\">\n",
              "      <th></th>\n",
              "      <th>Row ID</th>\n",
              "      <th>Order ID</th>\n",
              "      <th>Order Date</th>\n",
              "      <th>Ship Date</th>\n",
              "      <th>Ship Mode</th>\n",
              "      <th>Customer ID</th>\n",
              "      <th>Customer Name</th>\n",
              "      <th>Segment</th>\n",
              "      <th>Country</th>\n",
              "      <th>City</th>\n",
              "      <th>State</th>\n",
              "      <th>Postal Code</th>\n",
              "      <th>Region</th>\n",
              "      <th>Product ID</th>\n",
              "      <th>Category</th>\n",
              "      <th>Sub-Category</th>\n",
              "      <th>Product Name</th>\n",
              "      <th>Sales</th>\n",
              "    </tr>\n",
              "  </thead>\n",
              "  <tbody>\n",
              "    <tr>\n",
              "      <th>0</th>\n",
              "      <td>1</td>\n",
              "      <td>CA-2017-152156</td>\n",
              "      <td>08/11/2017</td>\n",
              "      <td>11/11/2017</td>\n",
              "      <td>Second Class</td>\n",
              "      <td>CG-12520</td>\n",
              "      <td>Claire Gute</td>\n",
              "      <td>Consumer</td>\n",
              "      <td>United States</td>\n",
              "      <td>Henderson</td>\n",
              "      <td>Kentucky</td>\n",
              "      <td>42420</td>\n",
              "      <td>South</td>\n",
              "      <td>FUR-BO-10001798</td>\n",
              "      <td>Furniture</td>\n",
              "      <td>Bookcases</td>\n",
              "      <td>Bush Somerset Collection Bookcase</td>\n",
              "      <td>261.9600</td>\n",
              "    </tr>\n",
              "    <tr>\n",
              "      <th>1</th>\n",
              "      <td>2</td>\n",
              "      <td>CA-2017-152156</td>\n",
              "      <td>08/11/2017</td>\n",
              "      <td>11/11/2017</td>\n",
              "      <td>Second Class</td>\n",
              "      <td>CG-12520</td>\n",
              "      <td>Claire Gute</td>\n",
              "      <td>Consumer</td>\n",
              "      <td>United States</td>\n",
              "      <td>Henderson</td>\n",
              "      <td>Kentucky</td>\n",
              "      <td>42420</td>\n",
              "      <td>South</td>\n",
              "      <td>FUR-CH-10000454</td>\n",
              "      <td>Furniture</td>\n",
              "      <td>Chairs</td>\n",
              "      <td>Hon Deluxe Fabric Upholstered Stacking Chairs,...</td>\n",
              "      <td>731.9400</td>\n",
              "    </tr>\n",
              "    <tr>\n",
              "      <th>2</th>\n",
              "      <td>3</td>\n",
              "      <td>CA-2017-138688</td>\n",
              "      <td>12/06/2017</td>\n",
              "      <td>16/06/2017</td>\n",
              "      <td>Second Class</td>\n",
              "      <td>DV-13045</td>\n",
              "      <td>Darrin Van Huff</td>\n",
              "      <td>Corporate</td>\n",
              "      <td>United States</td>\n",
              "      <td>Los Angeles</td>\n",
              "      <td>California</td>\n",
              "      <td>90036</td>\n",
              "      <td>West</td>\n",
              "      <td>OFF-LA-10000240</td>\n",
              "      <td>Office Supplies</td>\n",
              "      <td>Labels</td>\n",
              "      <td>Self-Adhesive Address Labels for Typewriters b...</td>\n",
              "      <td>14.6200</td>\n",
              "    </tr>\n",
              "    <tr>\n",
              "      <th>3</th>\n",
              "      <td>4</td>\n",
              "      <td>US-2016-108966</td>\n",
              "      <td>11/10/2016</td>\n",
              "      <td>18/10/2016</td>\n",
              "      <td>Standard Class</td>\n",
              "      <td>SO-20335</td>\n",
              "      <td>Sean O'Donnell</td>\n",
              "      <td>Consumer</td>\n",
              "      <td>United States</td>\n",
              "      <td>Fort Lauderdale</td>\n",
              "      <td>Florida</td>\n",
              "      <td>33311</td>\n",
              "      <td>South</td>\n",
              "      <td>FUR-TA-10000577</td>\n",
              "      <td>Furniture</td>\n",
              "      <td>Tables</td>\n",
              "      <td>Bretford CR4500 Series Slim Rectangular Table</td>\n",
              "      <td>957.5775</td>\n",
              "    </tr>\n",
              "    <tr>\n",
              "      <th>4</th>\n",
              "      <td>5</td>\n",
              "      <td>US-2016-108966</td>\n",
              "      <td>11/10/2016</td>\n",
              "      <td>18/10/2016</td>\n",
              "      <td>Standard Class</td>\n",
              "      <td>SO-20335</td>\n",
              "      <td>Sean O'Donnell</td>\n",
              "      <td>Consumer</td>\n",
              "      <td>United States</td>\n",
              "      <td>Fort Lauderdale</td>\n",
              "      <td>Florida</td>\n",
              "      <td>33311</td>\n",
              "      <td>South</td>\n",
              "      <td>OFF-ST-10000760</td>\n",
              "      <td>Office Supplies</td>\n",
              "      <td>Storage</td>\n",
              "      <td>Eldon Fold 'N Roll Cart System</td>\n",
              "      <td>22.3680</td>\n",
              "    </tr>\n",
              "    <tr>\n",
              "      <th>...</th>\n",
              "      <td>...</td>\n",
              "      <td>...</td>\n",
              "      <td>...</td>\n",
              "      <td>...</td>\n",
              "      <td>...</td>\n",
              "      <td>...</td>\n",
              "      <td>...</td>\n",
              "      <td>...</td>\n",
              "      <td>...</td>\n",
              "      <td>...</td>\n",
              "      <td>...</td>\n",
              "      <td>...</td>\n",
              "      <td>...</td>\n",
              "      <td>...</td>\n",
              "      <td>...</td>\n",
              "      <td>...</td>\n",
              "      <td>...</td>\n",
              "      <td>...</td>\n",
              "    </tr>\n",
              "    <tr>\n",
              "      <th>95</th>\n",
              "      <td>96</td>\n",
              "      <td>US-2018-109484</td>\n",
              "      <td>06/11/2018</td>\n",
              "      <td>12/11/2018</td>\n",
              "      <td>Standard Class</td>\n",
              "      <td>RB-19705</td>\n",
              "      <td>Roger Barcio</td>\n",
              "      <td>Home Office</td>\n",
              "      <td>United States</td>\n",
              "      <td>Portland</td>\n",
              "      <td>Oregon</td>\n",
              "      <td>97206</td>\n",
              "      <td>West</td>\n",
              "      <td>OFF-BI-10004738</td>\n",
              "      <td>Office Supplies</td>\n",
              "      <td>Binders</td>\n",
              "      <td>Flexible Leather- Look Classic Collection Ring...</td>\n",
              "      <td>5.6820</td>\n",
              "    </tr>\n",
              "    <tr>\n",
              "      <th>96</th>\n",
              "      <td>97</td>\n",
              "      <td>CA-2018-161018</td>\n",
              "      <td>09/11/2018</td>\n",
              "      <td>11/11/2018</td>\n",
              "      <td>Second Class</td>\n",
              "      <td>PN-18775</td>\n",
              "      <td>Parhena Norris</td>\n",
              "      <td>Home Office</td>\n",
              "      <td>United States</td>\n",
              "      <td>New York City</td>\n",
              "      <td>New York</td>\n",
              "      <td>10009</td>\n",
              "      <td>East</td>\n",
              "      <td>FUR-FU-10000629</td>\n",
              "      <td>Furniture</td>\n",
              "      <td>Furnishings</td>\n",
              "      <td>9-3/4 Diameter Round Wall Clock</td>\n",
              "      <td>96.5300</td>\n",
              "    </tr>\n",
              "    <tr>\n",
              "      <th>97</th>\n",
              "      <td>98</td>\n",
              "      <td>CA-2018-157833</td>\n",
              "      <td>17/06/2018</td>\n",
              "      <td>20/06/2018</td>\n",
              "      <td>First Class</td>\n",
              "      <td>KD-16345</td>\n",
              "      <td>Katherine Ducich</td>\n",
              "      <td>Consumer</td>\n",
              "      <td>United States</td>\n",
              "      <td>San Francisco</td>\n",
              "      <td>California</td>\n",
              "      <td>94122</td>\n",
              "      <td>West</td>\n",
              "      <td>OFF-BI-10001721</td>\n",
              "      <td>Office Supplies</td>\n",
              "      <td>Binders</td>\n",
              "      <td>Trimflex Flexible Post Binders</td>\n",
              "      <td>51.3120</td>\n",
              "    </tr>\n",
              "    <tr>\n",
              "      <th>98</th>\n",
              "      <td>99</td>\n",
              "      <td>CA-2017-149223</td>\n",
              "      <td>06/09/2017</td>\n",
              "      <td>11/09/2017</td>\n",
              "      <td>Standard Class</td>\n",
              "      <td>ER-13855</td>\n",
              "      <td>Elpida Rittenbach</td>\n",
              "      <td>Corporate</td>\n",
              "      <td>United States</td>\n",
              "      <td>Saint Paul</td>\n",
              "      <td>Minnesota</td>\n",
              "      <td>55106</td>\n",
              "      <td>Central</td>\n",
              "      <td>OFF-AP-10000358</td>\n",
              "      <td>Office Supplies</td>\n",
              "      <td>Appliances</td>\n",
              "      <td>Fellowes Basic Home/Office Series Surge Protec...</td>\n",
              "      <td>77.8800</td>\n",
              "    </tr>\n",
              "    <tr>\n",
              "      <th>99</th>\n",
              "      <td>100</td>\n",
              "      <td>CA-2017-158568</td>\n",
              "      <td>29/08/2017</td>\n",
              "      <td>02/09/2017</td>\n",
              "      <td>Standard Class</td>\n",
              "      <td>RB-19465</td>\n",
              "      <td>Rick Bensley</td>\n",
              "      <td>Home Office</td>\n",
              "      <td>United States</td>\n",
              "      <td>Chicago</td>\n",
              "      <td>Illinois</td>\n",
              "      <td>60610</td>\n",
              "      <td>Central</td>\n",
              "      <td>OFF-PA-10003256</td>\n",
              "      <td>Office Supplies</td>\n",
              "      <td>Paper</td>\n",
              "      <td>Avery Personal Creations Heavyweight Cards</td>\n",
              "      <td>64.6240</td>\n",
              "    </tr>\n",
              "  </tbody>\n",
              "</table>\n",
              "<p>100 rows × 18 columns</p>\n",
              "</div>"
            ],
            "text/plain": [
              "    Row ID        Order ID  Order Date   Ship Date       Ship Mode  \\\n",
              "0        1  CA-2017-152156  08/11/2017  11/11/2017    Second Class   \n",
              "1        2  CA-2017-152156  08/11/2017  11/11/2017    Second Class   \n",
              "2        3  CA-2017-138688  12/06/2017  16/06/2017    Second Class   \n",
              "3        4  US-2016-108966  11/10/2016  18/10/2016  Standard Class   \n",
              "4        5  US-2016-108966  11/10/2016  18/10/2016  Standard Class   \n",
              "..     ...             ...         ...         ...             ...   \n",
              "95      96  US-2018-109484  06/11/2018  12/11/2018  Standard Class   \n",
              "96      97  CA-2018-161018  09/11/2018  11/11/2018    Second Class   \n",
              "97      98  CA-2018-157833  17/06/2018  20/06/2018     First Class   \n",
              "98      99  CA-2017-149223  06/09/2017  11/09/2017  Standard Class   \n",
              "99     100  CA-2017-158568  29/08/2017  02/09/2017  Standard Class   \n",
              "\n",
              "   Customer ID      Customer Name      Segment        Country  \\\n",
              "0     CG-12520        Claire Gute     Consumer  United States   \n",
              "1     CG-12520        Claire Gute     Consumer  United States   \n",
              "2     DV-13045    Darrin Van Huff    Corporate  United States   \n",
              "3     SO-20335     Sean O'Donnell     Consumer  United States   \n",
              "4     SO-20335     Sean O'Donnell     Consumer  United States   \n",
              "..         ...                ...          ...            ...   \n",
              "95    RB-19705       Roger Barcio  Home Office  United States   \n",
              "96    PN-18775     Parhena Norris  Home Office  United States   \n",
              "97    KD-16345   Katherine Ducich     Consumer  United States   \n",
              "98    ER-13855  Elpida Rittenbach    Corporate  United States   \n",
              "99    RB-19465       Rick Bensley  Home Office  United States   \n",
              "\n",
              "               City       State  Postal Code   Region       Product ID  \\\n",
              "0         Henderson    Kentucky        42420    South  FUR-BO-10001798   \n",
              "1         Henderson    Kentucky        42420    South  FUR-CH-10000454   \n",
              "2       Los Angeles  California        90036     West  OFF-LA-10000240   \n",
              "3   Fort Lauderdale     Florida        33311    South  FUR-TA-10000577   \n",
              "4   Fort Lauderdale     Florida        33311    South  OFF-ST-10000760   \n",
              "..              ...         ...          ...      ...              ...   \n",
              "95         Portland      Oregon        97206     West  OFF-BI-10004738   \n",
              "96    New York City    New York        10009     East  FUR-FU-10000629   \n",
              "97    San Francisco  California        94122     West  OFF-BI-10001721   \n",
              "98       Saint Paul   Minnesota        55106  Central  OFF-AP-10000358   \n",
              "99          Chicago    Illinois        60610  Central  OFF-PA-10003256   \n",
              "\n",
              "           Category Sub-Category  \\\n",
              "0         Furniture    Bookcases   \n",
              "1         Furniture       Chairs   \n",
              "2   Office Supplies       Labels   \n",
              "3         Furniture       Tables   \n",
              "4   Office Supplies      Storage   \n",
              "..              ...          ...   \n",
              "95  Office Supplies      Binders   \n",
              "96        Furniture  Furnishings   \n",
              "97  Office Supplies      Binders   \n",
              "98  Office Supplies   Appliances   \n",
              "99  Office Supplies        Paper   \n",
              "\n",
              "                                         Product Name     Sales  \n",
              "0                   Bush Somerset Collection Bookcase  261.9600  \n",
              "1   Hon Deluxe Fabric Upholstered Stacking Chairs,...  731.9400  \n",
              "2   Self-Adhesive Address Labels for Typewriters b...   14.6200  \n",
              "3       Bretford CR4500 Series Slim Rectangular Table  957.5775  \n",
              "4                      Eldon Fold 'N Roll Cart System   22.3680  \n",
              "..                                                ...       ...  \n",
              "95  Flexible Leather- Look Classic Collection Ring...    5.6820  \n",
              "96                    9-3/4 Diameter Round Wall Clock   96.5300  \n",
              "97                     Trimflex Flexible Post Binders   51.3120  \n",
              "98  Fellowes Basic Home/Office Series Surge Protec...   77.8800  \n",
              "99         Avery Personal Creations Heavyweight Cards   64.6240  \n",
              "\n",
              "[100 rows x 18 columns]"
            ]
          },
          "execution_count": 24,
          "metadata": {},
          "output_type": "execute_result"
        }
      ],
      "source": [
        "print(\"Printing the Dataset Again after some changes---\")\n",
        "df.head(100)"
      ]
    },
    {
      "cell_type": "code",
      "execution_count": 25,
      "metadata": {
        "colab": {
          "base_uri": "https://localhost:8080/"
        },
        "id": "FSYO1oZnc622",
        "outputId": "8489e7d4-1fc2-49e6-d26f-b7580210d65b"
      },
      "outputs": [
        {
          "name": "stdout",
          "output_type": "stream",
          "text": [
            "---Displaying the Sub-Categories---\n",
            "['Bookcases' 'Chairs' 'Labels' 'Tables' 'Storage' 'Furnishings' 'Art'\n",
            " 'Phones' 'Binders' 'Appliances' 'Paper' 'Accessories' 'Envelopes'\n",
            " 'Fasteners' 'Supplies' 'Machines' 'Copiers']\n"
          ]
        }
      ],
      "source": [
        "#on to the subcategory of product\n",
        "product_subcategory = df['Sub-Category'].unique()\n",
        "\n",
        "print(\"---Displaying the Sub-Categories---\")\n",
        "print(product_subcategory)"
      ]
    },
    {
      "cell_type": "code",
      "execution_count": 26,
      "metadata": {
        "colab": {
          "base_uri": "https://localhost:8080/"
        },
        "id": "U1NwJmEndWZW",
        "outputId": "0c330df0-4c3f-4d56-e67e-b9eb7ac6938d"
      },
      "outputs": [
        {
          "name": "stdout",
          "output_type": "stream",
          "text": [
            "---Displaying the Number of Sub-Categories per Main Category---\n",
            "          Category  Sub-Category\n",
            "1  Office Supplies             9\n",
            "0        Furniture             4\n",
            "2       Technology             4\n"
          ]
        }
      ],
      "source": [
        "subcategory_count = df.groupby('Category')['Sub-Category'].nunique().reset_index()\n",
        "subcategory_count = subcategory_count.sort_values(by = 'Sub-Category', ascending = False)\n",
        "\n",
        "print(\"---Displaying the Number of Sub-Categories per Main Category---\")\n",
        "print(subcategory_count)"
      ]
    },
    {
      "cell_type": "code",
      "execution_count": 44,
      "metadata": {
        "colab": {
          "base_uri": "https://localhost:8080/"
        },
        "id": "PrHWii9Gd70k",
        "outputId": "671e86ae-4587-4c31-dba7-ea3c5ae64bbe"
      },
      "outputs": [
        {
          "name": "stdout",
          "output_type": "stream",
          "text": [
            "---Displaying the Sales per Sub-Category---\n",
            "           Category Sub-Category        Sales\n",
            "16       Technology       Phones  327782.4480\n",
            "1         Furniture       Chairs  322822.7310\n",
            "11  Office Supplies      Storage  219343.3920\n",
            "3         Furniture       Tables  202810.6280\n",
            "6   Office Supplies      Binders  200028.7850\n",
            "15       Technology     Machines  189238.6310\n",
            "13       Technology  Accessories  164186.7000\n",
            "14       Technology      Copiers  146248.0940\n",
            "0         Furniture    Bookcases  113813.1987\n",
            "4   Office Supplies   Appliances  104618.4030\n",
            "2         Furniture  Furnishings   89212.0180\n",
            "10  Office Supplies        Paper   76828.3040\n",
            "12  Office Supplies     Supplies   46420.3080\n",
            "5   Office Supplies          Art   26705.4100\n",
            "7   Office Supplies    Envelopes   16128.0460\n",
            "9   Office Supplies       Labels   12347.7260\n",
            "8   Office Supplies    Fasteners    3001.9600\n"
          ]
        }
      ],
      "source": [
        "#now to see top performing subcategory\n",
        "subcategory_count_sales = df.groupby(['Category','Sub-Category'])['Sales'].sum().reset_index()\n",
        "subcategory_count_sales = subcategory_count_sales.sort_values(by = 'Sales', ascending = False)\n",
        "\n",
        "print(\"---Displaying the Sales per Sub-Category---\")\n",
        "print(subcategory_count_sales)"
      ]
    },
    {
      "cell_type": "code",
      "execution_count": 28,
      "metadata": {
        "colab": {
          "base_uri": "https://localhost:8080/"
        },
        "id": "5Ue38vAGexol",
        "outputId": "c6241a4a-322d-48ea-86e2-dabe68c1ab99"
      },
      "outputs": [
        {
          "name": "stdout",
          "output_type": "stream",
          "text": [
            "---Displaying the Sales per Main Category---\n",
            "          Category        Sales\n",
            "0       Technology  827455.8730\n",
            "1        Furniture  728658.5757\n",
            "2  Office Supplies  705422.3340\n"
          ]
        }
      ],
      "source": [
        "#now lets see top performing main category\n",
        "product_category =df.groupby(['Category'])['Sales'].sum().reset_index()\n",
        "top_product_category = product_category.sort_values(by = 'Sales', ascending = False)\n",
        "\n",
        "print(\"---Displaying the Sales per Main Category---\")\n",
        "print(top_product_category.reset_index(drop = True))"
      ]
    },
    {
      "cell_type": "code",
      "execution_count": 29,
      "metadata": {
        "colab": {
          "base_uri": "https://localhost:8080/",
          "height": 406
        },
        "id": "sxELyNoOfbJC",
        "outputId": "f7d25ed6-06c9-4d9e-ac22-a6319cf14a23"
      },
      "outputs": [
        {
          "data": {
            "image/png": "[encoded data removed]",
            "text/plain": [
              "<Figure size 640x480 with 1 Axes>"
            ]
          },
          "metadata": {},
          "output_type": "display_data"
        }
      ],
      "source": [
        "plt.pie(top_product_category['Sales'], labels = top_product_category['Category'], autopct = '%1.1f%%')\n",
        "plt.title('Sales per Main Category')\n",
        "plt.savefig(f\"{output}/Sales_per_main_category_pie_chart.jpg\",format='jpg', dpi=300, bbox_inches='tight')\n",
        "plt.show()"
      ]
    },
    {
      "cell_type": "code",
      "execution_count": null,
      "metadata": {
        "colab": {
          "base_uri": "https://localhost:8080/",
          "height": 472
        },
        "id": "UE8_Od6gfvNW",
        "outputId": "caa70bc7-e25f-4ba8-cfae-83ba73f5b356"
      },
      "outputs": [
        {
          "data": {
            "image/png": "[encoded data removed]",
            "text/plain": [
              "<Figure size 640x480 with 1 Axes>"
            ]
          },
          "metadata": {},
          "output_type": "display_data"
        }
      ],
      "source": [
        "\n",
        "\n",
        "#now let's see top performing subcategory in descending order\n",
        "subcategory_count_sales = subcategory_count_sales.sort_values(by = 'Sales', ascending = True)\n",
        "plt.barh(subcategory_count_sales['Sub-Category'], subcategory_count_sales['Sales'])\n",
        "plt.xlabel('Sales')\n",
        "plt.ylabel('Sub-Category')\n",
        "plt.title('Sales per Sub-Category')\n",
        "plt.savefig(f\"{output}/Sales_per_subcategory_bar_chart.jpg\",format='jpg', dpi=300, bbox_inches='tight')\n",
        "plt.show()"
      ]
    },
    {
      "cell_type": "code",
      "execution_count": 31,
      "metadata": {
        "colab": {
          "base_uri": "https://localhost:8080/"
        },
        "id": "3EFi9FgKgszX",
        "outputId": "3522561d-f809-4812-c804-5a460fd5350e"
      },
      "outputs": [
        {
          "name": "stdout",
          "output_type": "stream",
          "text": [
            "---Displaying the Yearly Sales---\n",
            "   Year  Total Sales\n",
            "0  2015  479856.2081\n",
            "1  2016  459436.0054\n",
            "2  2017  600192.5500\n",
            "3  2018  722052.0192\n"
          ]
        }
      ],
      "source": [
        "#now to calculate Yearly sales\n",
        "df['Order Date'] = pd.to_datetime(df['Order Date'], dayfirst=True)\n",
        "yearly_sales = df.groupby(df['Order Date'].dt.year)['Sales'].sum().reset_index()\n",
        "yearly_sales = yearly_sales.rename(columns = {'Order Date' : 'Year', 'Sales' : 'Total Sales'})\n",
        "\n",
        "# Print the required results\n",
        "\n",
        "print(\"---Displaying the Yearly Sales---\")\n",
        "print(yearly_sales)\n"
      ]
    },
    {
      "cell_type": "code",
      "execution_count": 32,
      "metadata": {
        "colab": {
          "base_uri": "https://localhost:8080/",
          "height": 472
        },
        "id": "m32fSX6NhR74",
        "outputId": "66b4fd22-09bf-4160-f5a7-fa5065c2c03b"
      },
      "outputs": [
        {
          "data": {
            "image/png": "[encoded data removed]",
            "text/plain": [
              "<Figure size 640x480 with 1 Axes>"
            ]
          },
          "metadata": {},
          "output_type": "display_data"
        }
      ],
      "source": [
        "# Yearly Sales Bar chart\n",
        "plt.bar(yearly_sales['Year'], yearly_sales['Total Sales'])\n",
        "plt.xlabel('Year')\n",
        "plt.ylabel('Sales')\n",
        "plt.title('Sales per Year')\n",
        "plt.tight_layout()\n",
        "plt.xticks(rotation = 75)\n",
        "plt.savefig(f\"{output}/Sales_per_year_bar_chart.jpg\",format='jpg', dpi=300, bbox_inches='tight')\n",
        "plt.show()"
      ]
    },
    {
      "cell_type": "code",
      "execution_count": 33,
      "metadata": {
        "colab": {
          "base_uri": "https://localhost:8080/",
          "height": 472
        },
        "id": "3LOefIEWh66I",
        "outputId": "0ab2f727-3d28-4256-f06d-0098b901a27f"
      },
      "outputs": [
        {
          "data": {
            "image/png": "[encoded data removed]",
            "text/plain": [
              "<Figure size 640x480 with 1 Axes>"
            ]
          },
          "metadata": {},
          "output_type": "display_data"
        }
      ],
      "source": [
        "# Sales per year Line Chart\n",
        "plt.plot(yearly_sales['Year'], yearly_sales['Total Sales'], marker ='o', linestyle = '-')\n",
        "plt.xlabel('Year')\n",
        "plt.ylabel('Sales')\n",
        "plt.title('Sales per Year')\n",
        "plt.xticks(rotation = 75)\n",
        "plt.savefig(f\"{output}/Sales_per_year_line_chart.jpg\",format='jpg', dpi=300, bbox_inches='tight')\n",
        "plt.show()"
      ]
    },
    {
      "cell_type": "code",
      "execution_count": 34,
      "metadata": {
        "colab": {
          "base_uri": "https://localhost:8080/"
        },
        "id": "w_ij15IdiTmF",
        "outputId": "b202de45-e565-42de-9a6e-415a81f0ced3"
      },
      "outputs": [
        {
          "name": "stdout",
          "output_type": "stream",
          "text": [
            "---Displaying the Quarterly Sales---\n",
            "     Quarter  Total Sales\n",
            "0 2018-03-31  122260.8842\n",
            "1 2018-06-30  127558.6200\n",
            "2 2018-09-30  193815.8400\n",
            "3 2018-12-31  278416.6750\n"
          ]
        }
      ],
      "source": [
        "# now lets calculate quarterly sales\n",
        "df['Order Date'] = pd.to_datetime(df['Order Date'], dayfirst=True)\n",
        "year_sales = df[df['Order Date'].dt.year == 2018]\n",
        "quarterly_sales = year_sales.resample('QE', on = 'Order Date')['Sales'].sum()\n",
        "quarterly_sales = quarterly_sales.reset_index()\n",
        "quarterly_sales = quarterly_sales.rename(columns = {'Order Date' : 'Quarter', 'Sales' : 'Total Sales'})\n",
        "\n",
        "# Print the required results\n",
        "\n",
        "print(\"---Displaying the Quarterly Sales---\")\n",
        "print(quarterly_sales)"
      ]
    },
    {
      "cell_type": "code",
      "execution_count": 35,
      "metadata": {
        "colab": {
          "base_uri": "https://localhost:8080/",
          "height": 532
        },
        "id": "u0dz-166jNa9",
        "outputId": "e55284ea-a9b6-446f-d2bd-5a6f8b5754e9"
      },
      "outputs": [
        {
          "data": {
            "image/png": "[encoded data removed]",
            "text/plain": [
              "<Figure size 640x480 with 1 Axes>"
            ]
          },
          "metadata": {},
          "output_type": "display_data"
        }
      ],
      "source": [
        "# Quarterly Sales Line Chart\n",
        "plt.plot(quarterly_sales['Quarter'], quarterly_sales['Total Sales'], marker ='o', linestyle = '--')\n",
        "plt.xlabel('Quarter')\n",
        "plt.ylabel('Sales')\n",
        "plt.title('Sales per Quarter')\n",
        "plt.tight_layout()\n",
        "plt.xticks(rotation = 75)\n",
        "plt.savefig(f\"{output}/Sales_per_quarter_line_chart.jpg\",format='jpg', dpi=300, bbox_inches='tight')\n",
        "plt.show()"
      ]
    },
    {
      "cell_type": "code",
      "execution_count": 36,
      "metadata": {
        "colab": {
          "base_uri": "https://localhost:8080/"
        },
        "id": "yt1VmAuxj-aT",
        "outputId": "2d0d0dfe-aaf0-4b55-9400-01f20ae35a3c"
      },
      "outputs": [
        {
          "name": "stdout",
          "output_type": "stream",
          "text": [
            "---Displaying the Monthly Sales---\n",
            "        Month  Total Sales\n",
            "0  2018-01-31   43476.4740\n",
            "1  2018-02-28   19920.9974\n",
            "2  2018-03-31   58863.4128\n",
            "3  2018-04-30   35541.9101\n",
            "4  2018-05-31   43825.9822\n",
            "5  2018-06-30   48190.7277\n",
            "6  2018-07-31   44825.1040\n",
            "7  2018-08-31   62837.8480\n",
            "8  2018-09-30   86152.8880\n",
            "9  2018-10-31   77448.1312\n",
            "10 2018-11-30  117938.1550\n",
            "11 2018-12-31   83030.3888\n"
          ]
        }
      ],
      "source": [
        "#now onto monthly_sales\n",
        "df['Order Date'] = pd.to_datetime(df['Order Date'], dayfirst=True)\n",
        "year_sales = df[df['Order Date'].dt.year == 2018]\n",
        "monthly_sales = year_sales.resample('ME', on = 'Order Date')['Sales'].sum()\n",
        "monthly_sales = monthly_sales.reset_index()\n",
        "monthly_sales = monthly_sales.rename(columns = {'Order Date' : 'Month', 'Sales' : 'Total Sales'})\n",
        "\n",
        "# Print the required results\n",
        "\n",
        "print(\"---Displaying the Monthly Sales---\")\n",
        "print(monthly_sales)"
      ]
    },
    {
      "cell_type": "code",
      "execution_count": 37,
      "metadata": {
        "colab": {
          "base_uri": "https://localhost:8080/",
          "height": 487
        },
        "id": "attXA8nAkQWm",
        "outputId": "60820949-762e-42f1-9a76-82a3a08b5103"
      },
      "outputs": [
        {
          "data": {
            "image/png": "[encoded data removed]",
            "text/plain": [
              "<Figure size 640x480 with 1 Axes>"
            ]
          },
          "metadata": {},
          "output_type": "display_data"
        }
      ],
      "source": [
        "\n",
        "# Monthly Sales Line Chart\n",
        "plt.plot(monthly_sales['Month'], monthly_sales['Total Sales'], marker ='o', linestyle = '--')\n",
        "plt.xlabel('Month')\n",
        "plt.ylabel('Sales')\n",
        "plt.title('Sales per Month')\n",
        "plt.tight_layout()\n",
        "plt.xticks(rotation = 75)\n",
        "plt.savefig(f\"{output}/Sales_per_month_line_chart.jpg\",format='jpg', dpi=300, bbox_inches='tight')\n",
        "plt.show()"
      ]
    },
    {
      "cell_type": "code",
      "execution_count": 38,
      "metadata": {
        "colab": {
          "base_uri": "https://localhost:8080/",
          "height": 542
        },
        "id": "ZK68t3L9k-An",
        "outputId": "794be9c4-0f2a-4ed2-a59f-66fd1b08f93f"
      },
      "outputs": [
        {
          "data": {
            "application/vnd.plotly.v1+json": {
              "config": {
                "plotlyServerURL": "https://plot.ly"
              },
              "data": [
                {
                  "hoverinfo": "location+z",
                  "locationmode": "USA-states",
                  "locations": [
                    "AL",
                    "AZ",
                    "AR",
                    "CA",
                    "CO",
                    "CT",
                    "DE",
                    null,
                    "FL",
                    "GA",
                    "ID",
                    "IL",
                    "IN",
                    "IA",
                    "KS",
                    "KY",
                    "LA",
                    "ME",
                    "MD",
                    "MA",
                    "MI",
                    "MN",
                    "MS",
                    "MO",
                    "MT",
                    "NE",
                    "NV",
                    "NH",
                    "NJ",
                    "NM",
                    "NY",
                    "NC",
                    "ND",
                    "OH",
                    "OK",
                    "OR",
                    "PA",
                    "RI",
                    "SC",
                    "SD",
                    "TN",
                    "TX",
                    "UT",
                    "VT",
                    "VA",
                    "WA",
                    "WV",
                    "WI",
                    "WY"
                  ],
                  "showscale": true,
                  "type": "choropleth",
                  "z": [
                    19510.64,
                    35272.657,
                    11678.13,
                    446306.4635,
                    31841.597999999998,
                    13384.357,
                    27322.999,
                    2865.02,
                    88436.532,
                    48219.11,
                    4382.486,
                    79236.517,
                    48718.4,
                    4443.56,
                    2914.31,
                    36458.39,
                    9131.05,
                    1270.53,
                    23705.523,
                    28634.434,
                    76136.074,
                    29863.15,
                    10771.34,
                    22205.15,
                    5589.352,
                    7464.93,
                    16729.102,
                    7292.524,
                    34610.972,
                    4783.522,
                    306361.147,
                    55165.964,
                    919.91,
                    75130.35,
                    19683.39,
                    17284.462,
                    116276.65,
                    22525.026,
                    8481.71,
                    1315.56,
                    30661.873,
                    168572.5322,
                    11220.056,
                    8929.369999999999,
                    70636.72,
                    135206.85,
                    1209.824,
                    31173.43,
                    1603.136
                  ]
                }
              ],
              "layout": {
                "geo": {
                  "projection": {
                    "type": "albers usa"
                  },
                  "scope": "usa"
                },
                "margin": {
                  "b": 0,
                  "l": 0,
                  "r": 0,
                  "t": 0
                },
                "template": {
                  "data": {
                    "bar": [
                      {
                        "error_x": {
                          "color": "#2a3f5f"
                        },
                        "error_y": {
                          "color": "#2a3f5f"
                        },
                        "marker": {
                          "line": {
                            "color": "#E5ECF6",
                            "width": 0.5
                          },
                          "pattern": {
                            "fillmode": "overlay",
                            "size": 10,
                            "solidity": 0.2
                          }
                        },
                        "type": "bar"
                      }
                    ],
                    "barpolar": [
                      {
                        "marker": {
                          "line": {
                            "color": "#E5ECF6",
                            "width": 0.5
                          },
                          "pattern": {
                            "fillmode": "overlay",
                            "size": 10,
                            "solidity": 0.2
                          }
                        },
                        "type": "barpolar"
                      }
                    ],
                    "carpet": [
                      {
                        "aaxis": {
                          "endlinecolor": "#2a3f5f",
                          "gridcolor": "white",
                          "linecolor": "white",
                          "minorgridcolor": "white",
                          "startlinecolor": "#2a3f5f"
                        },
                        "baxis": {
                          "endlinecolor": "#2a3f5f",
                          "gridcolor": "white",
                          "linecolor": "white",
                          "minorgridcolor": "white",
                          "startlinecolor": "#2a3f5f"
                        },
                        "type": "carpet"
                      }
                    ],
                    "choropleth": [
                      {
                        "colorbar": {
                          "outlinewidth": 0,
                          "ticks": ""
                        },
                        "type": "choropleth"
                      }
                    ],
                    "contour": [
                      {
                        "colorbar": {
                          "outlinewidth": 0,
                          "ticks": ""
                        },
                        "colorscale": [
                          [
                            0,
                            "#0d0887"
                          ],
                          [
                            0.1111111111111111,
                            "#46039f"
                          ],
                          [
                            0.2222222222222222,
                            "#7201a8"
                          ],
                          [
                            0.3333333333333333,
                            "#9c179e"
                          ],
                          [
                            0.4444444444444444,
                            "#bd3786"
                          ],
                          [
                            0.5555555555555556,
                            "#d8576b"
                          ],
                          [
                            0.6666666666666666,
                            "#ed7953"
                          ],
                          [
                            0.7777777777777778,
                            "#fb9f3a"
                          ],
                          [
                            0.8888888888888888,
                            "#fdca26"
                          ],
                          [
                            1,
                            "#f0f921"
                          ]
                        ],
                        "type": "contour"
                      }
                    ],
                    "contourcarpet": [
                      {
                        "colorbar": {
                          "outlinewidth": 0,
                          "ticks": ""
                        },
                        "type": "contourcarpet"
                      }
                    ],
                    "heatmap": [
                      {
                        "colorbar": {
                          "outlinewidth": 0,
                          "ticks": ""
                        },
                        "colorscale": [
                          [
                            0,
                            "#0d0887"
                          ],
                          [
                            0.1111111111111111,
                            "#46039f"
                          ],
                          [
                            0.2222222222222222,
                            "#7201a8"
                          ],
                          [
                            0.3333333333333333,
                            "#9c179e"
                          ],
                          [
                            0.4444444444444444,
                            "#bd3786"
                          ],
                          [
                            0.5555555555555556,
                            "#d8576b"
                          ],
                          [
                            0.6666666666666666,
                            "#ed7953"
                          ],
                          [
                            0.7777777777777778,
                            "#fb9f3a"
                          ],
                          [
                            0.8888888888888888,
                            "#fdca26"
                          ],
                          [
                            1,
                            "#f0f921"
                          ]
                        ],
                        "type": "heatmap"
                      }
                    ],
                    "heatmapgl": [
                      {
                        "colorbar": {
                          "outlinewidth": 0,
                          "ticks": ""
                        },
                        "colorscale": [
                          [
                            0,
                            "#0d0887"
                          ],
                          [
                            0.1111111111111111,
                            "#46039f"
                          ],
                          [
                            0.2222222222222222,
                            "#7201a8"
                          ],
                          [
                            0.3333333333333333,
                            "#9c179e"
                          ],
                          [
                            0.4444444444444444,
                            "#bd3786"
                          ],
                          [
                            0.5555555555555556,
                            "#d8576b"
                          ],
                          [
                            0.6666666666666666,
                            "#ed7953"
                          ],
                          [
                            0.7777777777777778,
                            "#fb9f3a"
                          ],
                          [
                            0.8888888888888888,
                            "#fdca26"
                          ],
                          [
                            1,
                            "#f0f921"
                          ]
                        ],
                        "type": "heatmapgl"
                      }
                    ],
                    "histogram": [
                      {
                        "marker": {
                          "pattern": {
                            "fillmode": "overlay",
                            "size": 10,
                            "solidity": 0.2
                          }
                        },
                        "type": "histogram"
                      }
                    ],
                    "histogram2d": [
                      {
                        "colorbar": {
                          "outlinewidth": 0,
                          "ticks": ""
                        },
                        "colorscale": [
                          [
                            0,
                            "#0d0887"
                          ],
                          [
                            0.1111111111111111,
                            "#46039f"
                          ],
                          [
                            0.2222222222222222,
                            "#7201a8"
                          ],
                          [
                            0.3333333333333333,
                            "#9c179e"
                          ],
                          [
                            0.4444444444444444,
                            "#bd3786"
                          ],
                          [
                            0.5555555555555556,
                            "#d8576b"
                          ],
                          [
                            0.6666666666666666,
                            "#ed7953"
                          ],
                          [
                            0.7777777777777778,
                            "#fb9f3a"
                          ],
                          [
                            0.8888888888888888,
                            "#fdca26"
                          ],
                          [
                            1,
                            "#f0f921"
                          ]
                        ],
                        "type": "histogram2d"
                      }
                    ],
                    "histogram2dcontour": [
                      {
                        "colorbar": {
                          "outlinewidth": 0,
                          "ticks": ""
                        },
                        "colorscale": [
                          [
                            0,
                            "#0d0887"
                          ],
                          [
                            0.1111111111111111,
                            "#46039f"
                          ],
                          [
                            0.2222222222222222,
                            "#7201a8"
                          ],
                          [
                            0.3333333333333333,
                            "#9c179e"
                          ],
                          [
                            0.4444444444444444,
                            "#bd3786"
                          ],
                          [
                            0.5555555555555556,
                            "#d8576b"
                          ],
                          [
                            0.6666666666666666,
                            "#ed7953"
                          ],
                          [
                            0.7777777777777778,
                            "#fb9f3a"
                          ],
                          [
                            0.8888888888888888,
                            "#fdca26"
                          ],
                          [
                            1,
                            "#f0f921"
                          ]
                        ],
                        "type": "histogram2dcontour"
                      }
                    ],
                    "mesh3d": [
                      {
                        "colorbar": {
                          "outlinewidth": 0,
                          "ticks": ""
                        },
                        "type": "mesh3d"
                      }
                    ],
                    "parcoords": [
                      {
                        "line": {
                          "colorbar": {
                            "outlinewidth": 0,
                            "ticks": ""
                          }
                        },
                        "type": "parcoords"
                      }
                    ],
                    "pie": [
                      {
                        "automargin": true,
                        "type": "pie"
                      }
                    ],
                    "scatter": [
                      {
                        "fillpattern": {
                          "fillmode": "overlay",
                          "size": 10,
                          "solidity": 0.2
                        },
                        "type": "scatter"
                      }
                    ],
                    "scatter3d": [
                      {
                        "line": {
                          "colorbar": {
                            "outlinewidth": 0,
                            "ticks": ""
                          }
                        },
                        "marker": {
                          "colorbar": {
                            "outlinewidth": 0,
                            "ticks": ""
                          }
                        },
                        "type": "scatter3d"
                      }
                    ],
                    "scattercarpet": [
                      {
                        "marker": {
                          "colorbar": {
                            "outlinewidth": 0,
                            "ticks": ""
                          }
                        },
                        "type": "scattercarpet"
                      }
                    ],
                    "scattergeo": [
                      {
                        "marker": {
                          "colorbar": {
                            "outlinewidth": 0,
                            "ticks": ""
                          }
                        },
                        "type": "scattergeo"
                      }
                    ],
                    "scattergl": [
                      {
                        "marker": {
                          "colorbar": {
                            "outlinewidth": 0,
                            "ticks": ""
                          }
                        },
                        "type": "scattergl"
                      }
                    ],
                    "scattermapbox": [
                      {
                        "marker": {
                          "colorbar": {
                            "outlinewidth": 0,
                            "ticks": ""
                          }
                        },
                        "type": "scattermapbox"
                      }
                    ],
                    "scatterpolar": [
                      {
                        "marker": {
                          "colorbar": {
                            "outlinewidth": 0,
                            "ticks": ""
                          }
                        },
                        "type": "scatterpolar"
                      }
                    ],
                    "scatterpolargl": [
                      {
                        "marker": {
                          "colorbar": {
                            "outlinewidth": 0,
                            "ticks": ""
                          }
                        },
                        "type": "scatterpolargl"
                      }
                    ],
                    "scatterternary": [
                      {
                        "marker": {
                          "colorbar": {
                            "outlinewidth": 0,
                            "ticks": ""
                          }
                        },
                        "type": "scatterternary"
                      }
                    ],
                    "surface": [
                      {
                        "colorbar": {
                          "outlinewidth": 0,
                          "ticks": ""
                        },
                        "colorscale": [
                          [
                            0,
                            "#0d0887"
                          ],
                          [
                            0.1111111111111111,
                            "#46039f"
                          ],
                          [
                            0.2222222222222222,
                            "#7201a8"
                          ],
                          [
                            0.3333333333333333,
                            "#9c179e"
                          ],
                          [
                            0.4444444444444444,
                            "#bd3786"
                          ],
                          [
                            0.5555555555555556,
                            "#d8576b"
                          ],
                          [
                            0.6666666666666666,
                            "#ed7953"
                          ],
                          [
                            0.7777777777777778,
                            "#fb9f3a"
                          ],
                          [
                            0.8888888888888888,
                            "#fdca26"
                          ],
                          [
                            1,
                            "#f0f921"
                          ]
                        ],
                        "type": "surface"
                      }
                    ],
                    "table": [
                      {
                        "cells": {
                          "fill": {
                            "color": "#EBF0F8"
                          },
                          "line": {
                            "color": "white"
                          }
                        },
                        "header": {
                          "fill": {
                            "color": "#C8D4E3"
                          },
                          "line": {
                            "color": "white"
                          }
                        },
                        "type": "table"
                      }
                    ]
                  },
                  "layout": {
                    "annotationdefaults": {
                      "arrowcolor": "#2a3f5f",
                      "arrowhead": 0,
                      "arrowwidth": 1
                    },
                    "autotypenumbers": "strict",
                    "coloraxis": {
                      "colorbar": {
                        "outlinewidth": 0,
                        "ticks": ""
                      }
                    },
                    "colorscale": {
                      "diverging": [
                        [
                          0,
                          "#8e0152"
                        ],
                        [
                          0.1,
                          "#c51b7d"
                        ],
                        [
                          0.2,
                          "#de77ae"
                        ],
                        [
                          0.3,
                          "#f1b6da"
                        ],
                        [
                          0.4,
                          "#fde0ef"
                        ],
                        [
                          0.5,
                          "#f7f7f7"
                        ],
                        [
                          0.6,
                          "#e6f5d0"
                        ],
                        [
                          0.7,
                          "#b8e186"
                        ],
                        [
                          0.8,
                          "#7fbc41"
                        ],
                        [
                          0.9,
                          "#4d9221"
                        ],
                        [
                          1,
                          "#276419"
                        ]
                      ],
                      "sequential": [
                        [
                          0,
                          "#0d0887"
                        ],
                        [
                          0.1111111111111111,
                          "#46039f"
                        ],
                        [
                          0.2222222222222222,
                          "#7201a8"
                        ],
                        [
                          0.3333333333333333,
                          "#9c179e"
                        ],
                        [
                          0.4444444444444444,
                          "#bd3786"
                        ],
                        [
                          0.5555555555555556,
                          "#d8576b"
                        ],
                        [
                          0.6666666666666666,
                          "#ed7953"
                        ],
                        [
                          0.7777777777777778,
                          "#fb9f3a"
                        ],
                        [
                          0.8888888888888888,
                          "#fdca26"
                        ],
                        [
                          1,
                          "#f0f921"
                        ]
                      ],
                      "sequentialminus": [
                        [
                          0,
                          "#0d0887"
                        ],
                        [
                          0.1111111111111111,
                          "#46039f"
                        ],
                        [
                          0.2222222222222222,
                          "#7201a8"
                        ],
                        [
                          0.3333333333333333,
                          "#9c179e"
                        ],
                        [
                          0.4444444444444444,
                          "#bd3786"
                        ],
                        [
                          0.5555555555555556,
                          "#d8576b"
                        ],
                        [
                          0.6666666666666666,
                          "#ed7953"
                        ],
                        [
                          0.7777777777777778,
                          "#fb9f3a"
                        ],
                        [
                          0.8888888888888888,
                          "#fdca26"
                        ],
                        [
                          1,
                          "#f0f921"
                        ]
                      ]
                    },
                    "colorway": [
                      "#636efa",
                      "#EF553B",
                      "#00cc96",
                      "#ab63fa",
                      "#FFA15A",
                      "#19d3f3",
                      "#FF6692",
                      "#B6E880",
                      "#FF97FF",
                      "#FECB52"
                    ],
                    "font": {
                      "color": "#2a3f5f"
                    },
                    "geo": {
                      "bgcolor": "white",
                      "lakecolor": "white",
                      "landcolor": "#E5ECF6",
                      "showlakes": true,
                      "showland": true,
                      "subunitcolor": "white"
                    },
                    "hoverlabel": {
                      "align": "left"
                    },
                    "hovermode": "closest",
                    "mapbox": {
                      "style": "light"
                    },
                    "paper_bgcolor": "white",
                    "plot_bgcolor": "#E5ECF6",
                    "polar": {
                      "angularaxis": {
                        "gridcolor": "white",
                        "linecolor": "white",
                        "ticks": ""
                      },
                      "bgcolor": "#E5ECF6",
                      "radialaxis": {
                        "gridcolor": "white",
                        "linecolor": "white",
                        "ticks": ""
                      }
                    },
                    "scene": {
                      "xaxis": {
                        "backgroundcolor": "#E5ECF6",
                        "gridcolor": "white",
                        "gridwidth": 2,
                        "linecolor": "white",
                        "showbackground": true,
                        "ticks": "",
                        "zerolinecolor": "white"
                      },
                      "yaxis": {
                        "backgroundcolor": "#E5ECF6",
                        "gridcolor": "white",
                        "gridwidth": 2,
                        "linecolor": "white",
                        "showbackground": true,
                        "ticks": "",
                        "zerolinecolor": "white"
                      },
                      "zaxis": {
                        "backgroundcolor": "#E5ECF6",
                        "gridcolor": "white",
                        "gridwidth": 2,
                        "linecolor": "white",
                        "showbackground": true,
                        "ticks": "",
                        "zerolinecolor": "white"
                      }
                    },
                    "shapedefaults": {
                      "line": {
                        "color": "#2a3f5f"
                      }
                    },
                    "ternary": {
                      "aaxis": {
                        "gridcolor": "white",
                        "linecolor": "white",
                        "ticks": ""
                      },
                      "baxis": {
                        "gridcolor": "white",
                        "linecolor": "white",
                        "ticks": ""
                      },
                      "bgcolor": "#E5ECF6",
                      "caxis": {
                        "gridcolor": "white",
                        "linecolor": "white",
                        "ticks": ""
                      }
                    },
                    "title": {
                      "x": 0.05
                    },
                    "xaxis": {
                      "automargin": true,
                      "gridcolor": "white",
                      "linecolor": "white",
                      "ticks": "",
                      "title": {
                        "standoff": 15
                      },
                      "zerolinecolor": "white",
                      "zerolinewidth": 2
                    },
                    "yaxis": {
                      "automargin": true,
                      "gridcolor": "white",
                      "linecolor": "white",
                      "ticks": "",
                      "title": {
                        "standoff": 15
                      },
                      "zerolinecolor": "white",
                      "zerolinewidth": 2
                    }
                  }
                },
                "title": {
                  "text": "Total Sales by U.S. State"
                }
              }
            }
          },
          "metadata": {},
          "output_type": "display_data"
        }
      ],
      "source": [
        "# Now onto the Mapping\n",
        "#mapping by State for Product/Services\n",
        "#Creating Mapping for all 50 states\n",
        "all_state_mapping ={\n",
        "    \"Alabama\": \"AL\", \"Alaska\": \"AK\", \"Arizona\": \"AZ\", \"Arkansas\": \"AR\", \"California\": \"CA\",\n",
        "    \"Colorado\": \"CO\", \"Connecticut\": \"CT\", \"Delaware\": \"DE\", \"Florida\": \"FL\", \"Georgia\": \"GA\",\n",
        "    \"Hawaii\": \"HI\", \"Idaho\": \"ID\", \"Illinois\": \"IL\", \"Indiana\": \"IN\", \"Iowa\": \"IA\", \"Kansas\": \"KS\",\n",
        "    \"Kentucky\": \"KY\", \"Louisiana\": \"LA\", \"Maine\": \"ME\", \"Maryland\": \"MD\", \"Massachusetts\": \"MA\", \"Michigan\": \"MI\",\n",
        "    \"Minnesota\": \"MN\", \"Mississippi\": \"MS\", \"Missouri\": \"MO\", \"Montana\": \"MT\", \"Nebraska\": \"NE\", \"Nevada\": \"NV\",\n",
        "    \"New Hampshire\": \"NH\", \"New Jersey\": \"NJ\", \"New Mexico\": \"NM\", \"New York\": \"NY\", \"North Carolina\": \"NC\",\n",
        "    \"North Dakota\": \"ND\", \"Ohio\": \"OH\", \"Oklahoma\": \"OK\", \"Oregon\": \"OR\", \"Pennsylvania\": \"PA\", \"Rhode Island\": \"RI\",\n",
        "    \"South Carolina\": \"SC\", \"South Dakota\": \"SD\", \"Tennessee\": \"TN\", \"Texas\": \"TX\", \"Utah\": \"UT\", \"Vermont\": \"VT\",\n",
        "    \"Virginia\": \"VA\", \"Washington\": \"WA\", \"West Virginia\": \"WV\", \"Wisconsin\": \"WI\", \"Wyoming\": \"WY\"\n",
        "}\n",
        "#add the abbreviation column to the DataFrame\n",
        "df['Abbreviation'] = df['State'].map(all_state_mapping)\n",
        "\n",
        "#Group by state and calculate the sum of sales\n",
        "sum_of_sales = df.groupby('State')['Sales'].sum().reset_index()\n",
        "\n",
        "#Add Abbreviation to sum of sales\n",
        "sum_of_sales['Abbreviation'] = sum_of_sales['State'].map(all_state_mapping)\n",
        "\n",
        "#Create a choropleth map using plotly\n",
        "fig = go.Figure(data = go.Choropleth(locations = sum_of_sales['Abbreviation'],\n",
        "                                     locationmode='USA-states',\n",
        "                                     z=sum_of_sales['Sales'],\n",
        "                                     hoverinfo = 'location+z',\n",
        "                                     showscale=True))\n",
        "\n",
        "fig.update_geos(projection_type=\"albers usa\")\n",
        "fig.update_layout(title_text=\"Total Sales by U.S. State\", geo_scope='usa')\n",
        "fig.update_layout(margin={\"r\":0,\"t\":0,\"l\":0,\"b\":0})\n",
        "fig.write_image(f\"{output}/Total_sales_choropleth_map.jpg\")\n",
        "fig.show()\n"
      ]
    },
    {
      "cell_type": "code",
      "execution_count": 39,
      "metadata": {
        "colab": {
          "base_uri": "https://localhost:8080/",
          "height": 1000
        },
        "id": "acF6zA4no6mb",
        "outputId": "f38f58f0-c3fe-47bd-d02e-503943072fbe"
      },
      "outputs": [
        {
          "data": {
            "image/png": "[encoded data removed]",
            "text/plain": [
              "<Figure size 1000x1300 with 1 Axes>"
            ]
          },
          "metadata": {},
          "output_type": "display_data"
        }
      ],
      "source": [
        "#bar chart per state\n",
        "#Sort the DataFrame by the 'Sales' column in descending order\n",
        "sum_of_sales = sum_of_sales.sort_values(by='Sales', ascending=True)\n",
        "\n",
        "#Create a horizantal bar graph\n",
        "plt.figure(figsize=(10, 13))\n",
        "plt.barh(sum_of_sales['State'], sum_of_sales['Sales'])\n",
        "plt.xlabel('Total Sales')\n",
        "plt.ylabel('State')\n",
        "plt.title('Total Sales per State')\n",
        "plt.tight_layout()\n",
        "plt.savefig(f\"{output}/Sales_per_state_bar_chart.jpg\",format='jpg', dpi=300, bbox_inches='tight')\n",
        "plt.show()"
      ]
    },
    {
      "cell_type": "code",
      "execution_count": 40,
      "metadata": {
        "colab": {
          "base_uri": "https://localhost:8080/",
          "height": 518
        },
        "id": "dlBbC-MYpljt",
        "outputId": "fd8467c5-88e1-40c9-c3ea-d7f08bdaf750"
      },
      "outputs": [
        {
          "data": {
            "image/png": "[encoded data removed]",
            "text/plain": [
              "<Figure size 1500x1000 with 4 Axes>"
            ]
          },
          "metadata": {},
          "output_type": "display_data"
        }
      ],
      "source": [
        "\n",
        "#Create subplots per segment, region, category and subcategory\n",
        "fig, axes = plt.subplots(2, 2, figsize=(15, 10))\n",
        "fig.subplots_adjust(hspace=0.5)\n",
        "\n",
        "columns = ['Segment', 'Region', 'Category', 'Sub-Category']\n",
        "\n",
        "for i, column in enumerate(columns):\n",
        "  ax = axes[i // 2, i % 2]\n",
        "  sns.barplot(x='Sales', y=column, data=df, ax=ax, estimator=np.sum, errorbar=None,palette='bright', hue=column)\n",
        "  ax.set_xlabel('Total Sales')\n",
        "  ax.set_ylabel(column)\n",
        "  ax.set_title(f'Sales by {column}')\n",
        "\n",
        "plt.tight_layout()\n",
        "plt.savefig(f\"{output}/Sales_per_category_and_sub_category_bar_charts.jpg\",format='jpg', dpi=300, bbox_inches='tight')\n",
        "plt.show()"
      ]
    },
    {
      "cell_type": "code",
      "execution_count": 41,
      "metadata": {
        "colab": {
          "base_uri": "https://localhost:8080/",
          "height": 542
        },
        "id": "BjAe_1RzrpXp",
        "outputId": "47c2a04b-a05e-4bc0-af5f-bcd76f344b6d"
      },
      "outputs": [
        {
          "data": {
            "application/vnd.plotly.v1+json": {
              "config": {
                "plotlyServerURL": "https://plot.ly"
              },
              "data": [
                {
                  "branchvalues": "total",
                  "customdata": [
                    [
                      164186.7
                    ],
                    [
                      104618.403
                    ],
                    [
                      26705.41
                    ],
                    [
                      200028.785
                    ],
                    [
                      113813.1987
                    ],
                    [
                      322822.73099999997
                    ],
                    [
                      146248.094
                    ],
                    [
                      16128.046
                    ],
                    [
                      3001.96
                    ],
                    [
                      89212.018
                    ],
                    [
                      12347.726
                    ],
                    [
                      189238.631
                    ],
                    [
                      76828.304
                    ],
                    [
                      327782.448
                    ],
                    [
                      219343.392
                    ],
                    [
                      46420.308
                    ],
                    [
                      202810.62799999997
                    ],
                    [
                      228171.19070380926
                    ],
                    [
                      153468.7061261977
                    ],
                    [
                      231551.16349648498
                    ]
                  ],
                  "domain": {
                    "x": [
                      0,
                      1
                    ],
                    "y": [
                      0,
                      1
                    ]
                  },
                  "hovertemplate": "labels=%{label}<br>Sales_sum=%{value}<br>parent=%{parent}<br>id=%{id}<br>Sales=%{color}<extra></extra>",
                  "ids": [
                    "Technology/Accessories",
                    "Office Supplies/Appliances",
                    "Office Supplies/Art",
                    "Office Supplies/Binders",
                    "Furniture/Bookcases",
                    "Furniture/Chairs",
                    "Technology/Copiers",
                    "Office Supplies/Envelopes",
                    "Office Supplies/Fasteners",
                    "Furniture/Furnishings",
                    "Office Supplies/Labels",
                    "Technology/Machines",
                    "Office Supplies/Paper",
                    "Technology/Phones",
                    "Office Supplies/Storage",
                    "Office Supplies/Supplies",
                    "Furniture/Tables",
                    "Furniture",
                    "Office Supplies",
                    "Technology"
                  ],
                  "labels": [
                    "Accessories",
                    "Appliances",
                    "Art",
                    "Binders",
                    "Bookcases",
                    "Chairs",
                    "Copiers",
                    "Envelopes",
                    "Fasteners",
                    "Furnishings",
                    "Labels",
                    "Machines",
                    "Paper",
                    "Phones",
                    "Storage",
                    "Supplies",
                    "Tables",
                    "Furniture",
                    "Office Supplies",
                    "Technology"
                  ],
                  "marker": {
                    "coloraxis": "coloraxis",
                    "colors": [
                      164186.7,
                      104618.403,
                      26705.41,
                      200028.785,
                      113813.1987,
                      322822.73099999997,
                      146248.094,
                      16128.046,
                      3001.96,
                      89212.018,
                      12347.726,
                      189238.631,
                      76828.304,
                      327782.448,
                      219343.392,
                      46420.308,
                      202810.62799999997,
                      228171.19070380926,
                      153468.7061261977,
                      231551.16349648498
                    ]
                  },
                  "name": "",
                  "parents": [
                    "Technology",
                    "Office Supplies",
                    "Office Supplies",
                    "Office Supplies",
                    "Furniture",
                    "Furniture",
                    "Technology",
                    "Office Supplies",
                    "Office Supplies",
                    "Furniture",
                    "Office Supplies",
                    "Technology",
                    "Office Supplies",
                    "Technology",
                    "Office Supplies",
                    "Office Supplies",
                    "Furniture",
                    "",
                    "",
                    ""
                  ],
                  "type": "sunburst",
                  "values": [
                    164186.7,
                    104618.403,
                    26705.41,
                    200028.785,
                    113813.1987,
                    322822.73099999997,
                    146248.094,
                    16128.046,
                    3001.96,
                    89212.018,
                    12347.726,
                    189238.631,
                    76828.304,
                    327782.448,
                    219343.392,
                    46420.308,
                    202810.628,
                    728658.5756999999,
                    705422.334,
                    827455.873
                  ]
                }
              ],
              "layout": {
                "coloraxis": {
                  "colorbar": {
                    "title": {
                      "text": "Sales"
                    }
                  },
                  "colorscale": [
                    [
                      0,
                      "rgb(103,0,31)"
                    ],
                    [
                      0.1,
                      "rgb(178,24,43)"
                    ],
                    [
                      0.2,
                      "rgb(214,96,77)"
                    ],
                    [
                      0.3,
                      "rgb(244,165,130)"
                    ],
                    [
                      0.4,
                      "rgb(253,219,199)"
                    ],
                    [
                      0.5,
                      "rgb(247,247,247)"
                    ],
                    [
                      0.6,
                      "rgb(209,229,240)"
                    ],
                    [
                      0.7,
                      "rgb(146,197,222)"
                    ],
                    [
                      0.8,
                      "rgb(67,147,195)"
                    ],
                    [
                      0.9,
                      "rgb(33,102,172)"
                    ],
                    [
                      1,
                      "rgb(5,48,97)"
                    ]
                  ]
                },
                "legend": {
                  "tracegroupgap": 0
                },
                "margin": {
                  "b": 50,
                  "l": 50,
                  "r": 50,
                  "t": 50
                },
                "template": {
                  "data": {
                    "bar": [
                      {
                        "error_x": {
                          "color": "#2a3f5f"
                        },
                        "error_y": {
                          "color": "#2a3f5f"
                        },
                        "marker": {
                          "line": {
                            "color": "#E5ECF6",
                            "width": 0.5
                          },
                          "pattern": {
                            "fillmode": "overlay",
                            "size": 10,
                            "solidity": 0.2
                          }
                        },
                        "type": "bar"
                      }
                    ],
                    "barpolar": [
                      {
                        "marker": {
                          "line": {
                            "color": "#E5ECF6",
                            "width": 0.5
                          },
                          "pattern": {
                            "fillmode": "overlay",
                            "size": 10,
                            "solidity": 0.2
                          }
                        },
                        "type": "barpolar"
                      }
                    ],
                    "carpet": [
                      {
                        "aaxis": {
                          "endlinecolor": "#2a3f5f",
                          "gridcolor": "white",
                          "linecolor": "white",
                          "minorgridcolor": "white",
                          "startlinecolor": "#2a3f5f"
                        },
                        "baxis": {
                          "endlinecolor": "#2a3f5f",
                          "gridcolor": "white",
                          "linecolor": "white",
                          "minorgridcolor": "white",
                          "startlinecolor": "#2a3f5f"
                        },
                        "type": "carpet"
                      }
                    ],
                    "choropleth": [
                      {
                        "colorbar": {
                          "outlinewidth": 0,
                          "ticks": ""
                        },
                        "type": "choropleth"
                      }
                    ],
                    "contour": [
                      {
                        "colorbar": {
                          "outlinewidth": 0,
                          "ticks": ""
                        },
                        "colorscale": [
                          [
                            0,
                            "#0d0887"
                          ],
                          [
                            0.1111111111111111,
                            "#46039f"
                          ],
                          [
                            0.2222222222222222,
                            "#7201a8"
                          ],
                          [
                            0.3333333333333333,
                            "#9c179e"
                          ],
                          [
                            0.4444444444444444,
                            "#bd3786"
                          ],
                          [
                            0.5555555555555556,
                            "#d8576b"
                          ],
                          [
                            0.6666666666666666,
                            "#ed7953"
                          ],
                          [
                            0.7777777777777778,
                            "#fb9f3a"
                          ],
                          [
                            0.8888888888888888,
                            "#fdca26"
                          ],
                          [
                            1,
                            "#f0f921"
                          ]
                        ],
                        "type": "contour"
                      }
                    ],
                    "contourcarpet": [
                      {
                        "colorbar": {
                          "outlinewidth": 0,
                          "ticks": ""
                        },
                        "type": "contourcarpet"
                      }
                    ],
                    "heatmap": [
                      {
                        "colorbar": {
                          "outlinewidth": 0,
                          "ticks": ""
                        },
                        "colorscale": [
                          [
                            0,
                            "#0d0887"
                          ],
                          [
                            0.1111111111111111,
                            "#46039f"
                          ],
                          [
                            0.2222222222222222,
                            "#7201a8"
                          ],
                          [
                            0.3333333333333333,
                            "#9c179e"
                          ],
                          [
                            0.4444444444444444,
                            "#bd3786"
                          ],
                          [
                            0.5555555555555556,
                            "#d8576b"
                          ],
                          [
                            0.6666666666666666,
                            "#ed7953"
                          ],
                          [
                            0.7777777777777778,
                            "#fb9f3a"
                          ],
                          [
                            0.8888888888888888,
                            "#fdca26"
                          ],
                          [
                            1,
                            "#f0f921"
                          ]
                        ],
                        "type": "heatmap"
                      }
                    ],
                    "heatmapgl": [
                      {
                        "colorbar": {
                          "outlinewidth": 0,
                          "ticks": ""
                        },
                        "colorscale": [
                          [
                            0,
                            "#0d0887"
                          ],
                          [
                            0.1111111111111111,
                            "#46039f"
                          ],
                          [
                            0.2222222222222222,
                            "#7201a8"
                          ],
                          [
                            0.3333333333333333,
                            "#9c179e"
                          ],
                          [
                            0.4444444444444444,
                            "#bd3786"
                          ],
                          [
                            0.5555555555555556,
                            "#d8576b"
                          ],
                          [
                            0.6666666666666666,
                            "#ed7953"
                          ],
                          [
                            0.7777777777777778,
                            "#fb9f3a"
                          ],
                          [
                            0.8888888888888888,
                            "#fdca26"
                          ],
                          [
                            1,
                            "#f0f921"
                          ]
                        ],
                        "type": "heatmapgl"
                      }
                    ],
                    "histogram": [
                      {
                        "marker": {
                          "pattern": {
                            "fillmode": "overlay",
                            "size": 10,
                            "solidity": 0.2
                          }
                        },
                        "type": "histogram"
                      }
                    ],
                    "histogram2d": [
                      {
                        "colorbar": {
                          "outlinewidth": 0,
                          "ticks": ""
                        },
                        "colorscale": [
                          [
                            0,
                            "#0d0887"
                          ],
                          [
                            0.1111111111111111,
                            "#46039f"
                          ],
                          [
                            0.2222222222222222,
                            "#7201a8"
                          ],
                          [
                            0.3333333333333333,
                            "#9c179e"
                          ],
                          [
                            0.4444444444444444,
                            "#bd3786"
                          ],
                          [
                            0.5555555555555556,
                            "#d8576b"
                          ],
                          [
                            0.6666666666666666,
                            "#ed7953"
                          ],
                          [
                            0.7777777777777778,
                            "#fb9f3a"
                          ],
                          [
                            0.8888888888888888,
                            "#fdca26"
                          ],
                          [
                            1,
                            "#f0f921"
                          ]
                        ],
                        "type": "histogram2d"
                      }
                    ],
                    "histogram2dcontour": [
                      {
                        "colorbar": {
                          "outlinewidth": 0,
                          "ticks": ""
                        },
                        "colorscale": [
                          [
                            0,
                            "#0d0887"
                          ],
                          [
                            0.1111111111111111,
                            "#46039f"
                          ],
                          [
                            0.2222222222222222,
                            "#7201a8"
                          ],
                          [
                            0.3333333333333333,
                            "#9c179e"
                          ],
                          [
                            0.4444444444444444,
                            "#bd3786"
                          ],
                          [
                            0.5555555555555556,
                            "#d8576b"
                          ],
                          [
                            0.6666666666666666,
                            "#ed7953"
                          ],
                          [
                            0.7777777777777778,
                            "#fb9f3a"
                          ],
                          [
                            0.8888888888888888,
                            "#fdca26"
                          ],
                          [
                            1,
                            "#f0f921"
                          ]
                        ],
                        "type": "histogram2dcontour"
                      }
                    ],
                    "mesh3d": [
                      {
                        "colorbar": {
                          "outlinewidth": 0,
                          "ticks": ""
                        },
                        "type": "mesh3d"
                      }
                    ],
                    "parcoords": [
                      {
                        "line": {
                          "colorbar": {
                            "outlinewidth": 0,
                            "ticks": ""
                          }
                        },
                        "type": "parcoords"
                      }
                    ],
                    "pie": [
                      {
                        "automargin": true,
                        "type": "pie"
                      }
                    ],
                    "scatter": [
                      {
                        "fillpattern": {
                          "fillmode": "overlay",
                          "size": 10,
                          "solidity": 0.2
                        },
                        "type": "scatter"
                      }
                    ],
                    "scatter3d": [
                      {
                        "line": {
                          "colorbar": {
                            "outlinewidth": 0,
                            "ticks": ""
                          }
                        },
                        "marker": {
                          "colorbar": {
                            "outlinewidth": 0,
                            "ticks": ""
                          }
                        },
                        "type": "scatter3d"
                      }
                    ],
                    "scattercarpet": [
                      {
                        "marker": {
                          "colorbar": {
                            "outlinewidth": 0,
                            "ticks": ""
                          }
                        },
                        "type": "scattercarpet"
                      }
                    ],
                    "scattergeo": [
                      {
                        "marker": {
                          "colorbar": {
                            "outlinewidth": 0,
                            "ticks": ""
                          }
                        },
                        "type": "scattergeo"
                      }
                    ],
                    "scattergl": [
                      {
                        "marker": {
                          "colorbar": {
                            "outlinewidth": 0,
                            "ticks": ""
                          }
                        },
                        "type": "scattergl"
                      }
                    ],
                    "scattermapbox": [
                      {
                        "marker": {
                          "colorbar": {
                            "outlinewidth": 0,
                            "ticks": ""
                          }
                        },
                        "type": "scattermapbox"
                      }
                    ],
                    "scatterpolar": [
                      {
                        "marker": {
                          "colorbar": {
                            "outlinewidth": 0,
                            "ticks": ""
                          }
                        },
                        "type": "scatterpolar"
                      }
                    ],
                    "scatterpolargl": [
                      {
                        "marker": {
                          "colorbar": {
                            "outlinewidth": 0,
                            "ticks": ""
                          }
                        },
                        "type": "scatterpolargl"
                      }
                    ],
                    "scatterternary": [
                      {
                        "marker": {
                          "colorbar": {
                            "outlinewidth": 0,
                            "ticks": ""
                          }
                        },
                        "type": "scatterternary"
                      }
                    ],
                    "surface": [
                      {
                        "colorbar": {
                          "outlinewidth": 0,
                          "ticks": ""
                        },
                        "colorscale": [
                          [
                            0,
                            "#0d0887"
                          ],
                          [
                            0.1111111111111111,
                            "#46039f"
                          ],
                          [
                            0.2222222222222222,
                            "#7201a8"
                          ],
                          [
                            0.3333333333333333,
                            "#9c179e"
                          ],
                          [
                            0.4444444444444444,
                            "#bd3786"
                          ],
                          [
                            0.5555555555555556,
                            "#d8576b"
                          ],
                          [
                            0.6666666666666666,
                            "#ed7953"
                          ],
                          [
                            0.7777777777777778,
                            "#fb9f3a"
                          ],
                          [
                            0.8888888888888888,
                            "#fdca26"
                          ],
                          [
                            1,
                            "#f0f921"
                          ]
                        ],
                        "type": "surface"
                      }
                    ],
                    "table": [
                      {
                        "cells": {
                          "fill": {
                            "color": "#EBF0F8"
                          },
                          "line": {
                            "color": "white"
                          }
                        },
                        "header": {
                          "fill": {
                            "color": "#C8D4E3"
                          },
                          "line": {
                            "color": "white"
                          }
                        },
                        "type": "table"
                      }
                    ]
                  },
                  "layout": {
                    "annotationdefaults": {
                      "arrowcolor": "#2a3f5f",
                      "arrowhead": 0,
                      "arrowwidth": 1
                    },
                    "autotypenumbers": "strict",
                    "coloraxis": {
                      "colorbar": {
                        "outlinewidth": 0,
                        "ticks": ""
                      }
                    },
                    "colorscale": {
                      "diverging": [
                        [
                          0,
                          "#8e0152"
                        ],
                        [
                          0.1,
                          "#c51b7d"
                        ],
                        [
                          0.2,
                          "#de77ae"
                        ],
                        [
                          0.3,
                          "#f1b6da"
                        ],
                        [
                          0.4,
                          "#fde0ef"
                        ],
                        [
                          0.5,
                          "#f7f7f7"
                        ],
                        [
                          0.6,
                          "#e6f5d0"
                        ],
                        [
                          0.7,
                          "#b8e186"
                        ],
                        [
                          0.8,
                          "#7fbc41"
                        ],
                        [
                          0.9,
                          "#4d9221"
                        ],
                        [
                          1,
                          "#276419"
                        ]
                      ],
                      "sequential": [
                        [
                          0,
                          "#0d0887"
                        ],
                        [
                          0.1111111111111111,
                          "#46039f"
                        ],
                        [
                          0.2222222222222222,
                          "#7201a8"
                        ],
                        [
                          0.3333333333333333,
                          "#9c179e"
                        ],
                        [
                          0.4444444444444444,
                          "#bd3786"
                        ],
                        [
                          0.5555555555555556,
                          "#d8576b"
                        ],
                        [
                          0.6666666666666666,
                          "#ed7953"
                        ],
                        [
                          0.7777777777777778,
                          "#fb9f3a"
                        ],
                        [
                          0.8888888888888888,
                          "#fdca26"
                        ],
                        [
                          1,
                          "#f0f921"
                        ]
                      ],
                      "sequentialminus": [
                        [
                          0,
                          "#0d0887"
                        ],
                        [
                          0.1111111111111111,
                          "#46039f"
                        ],
                        [
                          0.2222222222222222,
                          "#7201a8"
                        ],
                        [
                          0.3333333333333333,
                          "#9c179e"
                        ],
                        [
                          0.4444444444444444,
                          "#bd3786"
                        ],
                        [
                          0.5555555555555556,
                          "#d8576b"
                        ],
                        [
                          0.6666666666666666,
                          "#ed7953"
                        ],
                        [
                          0.7777777777777778,
                          "#fb9f3a"
                        ],
                        [
                          0.8888888888888888,
                          "#fdca26"
                        ],
                        [
                          1,
                          "#f0f921"
                        ]
                      ]
                    },
                    "colorway": [
                      "#636efa",
                      "#EF553B",
                      "#00cc96",
                      "#ab63fa",
                      "#FFA15A",
                      "#19d3f3",
                      "#FF6692",
                      "#B6E880",
                      "#FF97FF",
                      "#FECB52"
                    ],
                    "font": {
                      "color": "#2a3f5f"
                    },
                    "geo": {
                      "bgcolor": "white",
                      "lakecolor": "white",
                      "landcolor": "#E5ECF6",
                      "showlakes": true,
                      "showland": true,
                      "subunitcolor": "white"
                    },
                    "hoverlabel": {
                      "align": "left"
                    },
                    "hovermode": "closest",
                    "mapbox": {
                      "style": "light"
                    },
                    "paper_bgcolor": "white",
                    "plot_bgcolor": "#E5ECF6",
                    "polar": {
                      "angularaxis": {
                        "gridcolor": "white",
                        "linecolor": "white",
                        "ticks": ""
                      },
                      "bgcolor": "#E5ECF6",
                      "radialaxis": {
                        "gridcolor": "white",
                        "linecolor": "white",
                        "ticks": ""
                      }
                    },
                    "scene": {
                      "xaxis": {
                        "backgroundcolor": "#E5ECF6",
                        "gridcolor": "white",
                        "gridwidth": 2,
                        "linecolor": "white",
                        "showbackground": true,
                        "ticks": "",
                        "zerolinecolor": "white"
                      },
                      "yaxis": {
                        "backgroundcolor": "#E5ECF6",
                        "gridcolor": "white",
                        "gridwidth": 2,
                        "linecolor": "white",
                        "showbackground": true,
                        "ticks": "",
                        "zerolinecolor": "white"
                      },
                      "zaxis": {
                        "backgroundcolor": "#E5ECF6",
                        "gridcolor": "white",
                        "gridwidth": 2,
                        "linecolor": "white",
                        "showbackground": true,
                        "ticks": "",
                        "zerolinecolor": "white"
                      }
                    },
                    "shapedefaults": {
                      "line": {
                        "color": "#2a3f5f"
                      }
                    },
                    "ternary": {
                      "aaxis": {
                        "gridcolor": "white",
                        "linecolor": "white",
                        "ticks": ""
                      },
                      "baxis": {
                        "gridcolor": "white",
                        "linecolor": "white",
                        "ticks": ""
                      },
                      "bgcolor": "#E5ECF6",
                      "caxis": {
                        "gridcolor": "white",
                        "linecolor": "white",
                        "ticks": ""
                      }
                    },
                    "title": {
                      "x": 0.05
                    },
                    "xaxis": {
                      "automargin": true,
                      "gridcolor": "white",
                      "linecolor": "white",
                      "ticks": "",
                      "title": {
                        "standoff": 15
                      },
                      "zerolinecolor": "white",
                      "zerolinewidth": 2
                    },
                    "yaxis": {
                      "automargin": true,
                      "gridcolor": "white",
                      "linecolor": "white",
                      "ticks": "",
                      "title": {
                        "standoff": 15
                      },
                      "zerolinecolor": "white",
                      "zerolinewidth": 2
                    }
                  }
                },
                "title": {
                  "text": "Sales by Category and Sub-Category"
                }
              }
            }
          },
          "metadata": {},
          "output_type": "display_data"
        }
      ],
      "source": [
        "#Summarize the Sales data by Category and Sub category\n",
        "df_summary = df.groupby(['Category', 'Sub-Category'])['Sales'].sum().reset_index()\n",
        "#Create a nested pie chart\n",
        "fig = px.sunburst(\n",
        "    df_summary,\n",
        "    path=['Category', 'Sub-Category'], values='Sales',\n",
        "    color='Sales',\n",
        "    color_continuous_scale='RdBu',\n",
        "    title='Sales by Category and Sub-Category'\n",
        ")\n",
        "\n",
        "fig.update_layout(margin=dict(t=50, l=50, r=50, b=50))\n",
        "fig.write_image(f\"{output}/Sales_per_category_and_sub_category_sunburst_chart.jpg\")\n",
        "\n",
        "fig.show()\n"
      ]
    },
    {
      "cell_type": "code",
      "execution_count": 42,
      "metadata": {
        "colab": {
          "base_uri": "https://localhost:8080/",
          "height": 542
        },
        "id": "o7CGnVjJslRx",
        "outputId": "0469ca12-4d59-4dcd-ae4e-34cd902e37ed"
      },
      "outputs": [
        {
          "data": {
            "application/vnd.plotly.v1+json": {
              "config": {
                "plotlyServerURL": "https://plot.ly"
              },
              "data": [
                {
                  "branchvalues": "total",
                  "domain": {
                    "x": [
                      0,
                      1
                    ],
                    "y": [
                      0,
                      1
                    ]
                  },
                  "hovertemplate": "labels=%{label}<br>Sales=%{value}<br>parent=%{parent}<br>id=%{id}<extra></extra>",
                  "ids": [
                    "Technology/First Class/Accessories",
                    "Technology/Same Day/Accessories",
                    "Technology/Second Class/Accessories",
                    "Technology/Standard Class/Accessories",
                    "Office Supplies/First Class/Appliances",
                    "Office Supplies/Same Day/Appliances",
                    "Office Supplies/Second Class/Appliances",
                    "Office Supplies/Standard Class/Appliances",
                    "Office Supplies/First Class/Art",
                    "Office Supplies/Same Day/Art",
                    "Office Supplies/Second Class/Art",
                    "Office Supplies/Standard Class/Art",
                    "Office Supplies/First Class/Binders",
                    "Office Supplies/Same Day/Binders",
                    "Office Supplies/Second Class/Binders",
                    "Office Supplies/Standard Class/Binders",
                    "Furniture/First Class/Bookcases",
                    "Furniture/Same Day/Bookcases",
                    "Furniture/Second Class/Bookcases",
                    "Furniture/Standard Class/Bookcases",
                    "Furniture/First Class/Chairs",
                    "Furniture/Same Day/Chairs",
                    "Furniture/Second Class/Chairs",
                    "Furniture/Standard Class/Chairs",
                    "Technology/First Class/Copiers",
                    "Technology/Same Day/Copiers",
                    "Technology/Second Class/Copiers",
                    "Technology/Standard Class/Copiers",
                    "Office Supplies/First Class/Envelopes",
                    "Office Supplies/Same Day/Envelopes",
                    "Office Supplies/Second Class/Envelopes",
                    "Office Supplies/Standard Class/Envelopes",
                    "Office Supplies/First Class/Fasteners",
                    "Office Supplies/Same Day/Fasteners",
                    "Office Supplies/Second Class/Fasteners",
                    "Office Supplies/Standard Class/Fasteners",
                    "Furniture/First Class/Furnishings",
                    "Furniture/Same Day/Furnishings",
                    "Furniture/Second Class/Furnishings",
                    "Furniture/Standard Class/Furnishings",
                    "Office Supplies/First Class/Labels",
                    "Office Supplies/Same Day/Labels",
                    "Office Supplies/Second Class/Labels",
                    "Office Supplies/Standard Class/Labels",
                    "Technology/First Class/Machines",
                    "Technology/Same Day/Machines",
                    "Technology/Second Class/Machines",
                    "Technology/Standard Class/Machines",
                    "Office Supplies/First Class/Paper",
                    "Office Supplies/Same Day/Paper",
                    "Office Supplies/Second Class/Paper",
                    "Office Supplies/Standard Class/Paper",
                    "Technology/First Class/Phones",
                    "Technology/Same Day/Phones",
                    "Technology/Second Class/Phones",
                    "Technology/Standard Class/Phones",
                    "Office Supplies/First Class/Storage",
                    "Office Supplies/Same Day/Storage",
                    "Office Supplies/Second Class/Storage",
                    "Office Supplies/Standard Class/Storage",
                    "Office Supplies/First Class/Supplies",
                    "Office Supplies/Same Day/Supplies",
                    "Office Supplies/Second Class/Supplies",
                    "Office Supplies/Standard Class/Supplies",
                    "Furniture/First Class/Tables",
                    "Furniture/Same Day/Tables",
                    "Furniture/Second Class/Tables",
                    "Furniture/Standard Class/Tables",
                    "Furniture/First Class",
                    "Office Supplies/First Class",
                    "Technology/First Class",
                    "Furniture/Same Day",
                    "Office Supplies/Same Day",
                    "Technology/Same Day",
                    "Furniture/Second Class",
                    "Office Supplies/Second Class",
                    "Technology/Second Class",
                    "Furniture/Standard Class",
                    "Office Supplies/Standard Class",
                    "Technology/Standard Class",
                    "Furniture",
                    "Office Supplies",
                    "Technology"
                  ],
                  "labels": [
                    "Accessories",
                    "Accessories",
                    "Accessories",
                    "Accessories",
                    "Appliances",
                    "Appliances",
                    "Appliances",
                    "Appliances",
                    "Art",
                    "Art",
                    "Art",
                    "Art",
                    "Binders",
                    "Binders",
                    "Binders",
                    "Binders",
                    "Bookcases",
                    "Bookcases",
                    "Bookcases",
                    "Bookcases",
                    "Chairs",
                    "Chairs",
                    "Chairs",
                    "Chairs",
                    "Copiers",
                    "Copiers",
                    "Copiers",
                    "Copiers",
                    "Envelopes",
                    "Envelopes",
                    "Envelopes",
                    "Envelopes",
                    "Fasteners",
                    "Fasteners",
                    "Fasteners",
                    "Fasteners",
                    "Furnishings",
                    "Furnishings",
                    "Furnishings",
                    "Furnishings",
                    "Labels",
                    "Labels",
                    "Labels",
                    "Labels",
                    "Machines",
                    "Machines",
                    "Machines",
                    "Machines",
                    "Paper",
                    "Paper",
                    "Paper",
                    "Paper",
                    "Phones",
                    "Phones",
                    "Phones",
                    "Phones",
                    "Storage",
                    "Storage",
                    "Storage",
                    "Storage",
                    "Supplies",
                    "Supplies",
                    "Supplies",
                    "Supplies",
                    "Tables",
                    "Tables",
                    "Tables",
                    "Tables",
                    "First Class",
                    "First Class",
                    "First Class",
                    "Same Day",
                    "Same Day",
                    "Same Day",
                    "Second Class",
                    "Second Class",
                    "Second Class",
                    "Standard Class",
                    "Standard Class",
                    "Standard Class",
                    "Furniture",
                    "Office Supplies",
                    "Technology"
                  ],
                  "name": "",
                  "parents": [
                    "Technology/First Class",
                    "Technology/Same Day",
                    "Technology/Second Class",
                    "Technology/Standard Class",
                    "Office Supplies/First Class",
                    "Office Supplies/Same Day",
                    "Office Supplies/Second Class",
                    "Office Supplies/Standard Class",
                    "Office Supplies/First Class",
                    "Office Supplies/Same Day",
                    "Office Supplies/Second Class",
                    "Office Supplies/Standard Class",
                    "Office Supplies/First Class",
                    "Office Supplies/Same Day",
                    "Office Supplies/Second Class",
                    "Office Supplies/Standard Class",
                    "Furniture/First Class",
                    "Furniture/Same Day",
                    "Furniture/Second Class",
                    "Furniture/Standard Class",
                    "Furniture/First Class",
                    "Furniture/Same Day",
                    "Furniture/Second Class",
                    "Furniture/Standard Class",
                    "Technology/First Class",
                    "Technology/Same Day",
                    "Technology/Second Class",
                    "Technology/Standard Class",
                    "Office Supplies/First Class",
                    "Office Supplies/Same Day",
                    "Office Supplies/Second Class",
                    "Office Supplies/Standard Class",
                    "Office Supplies/First Class",
                    "Office Supplies/Same Day",
                    "Office Supplies/Second Class",
                    "Office Supplies/Standard Class",
                    "Furniture/First Class",
                    "Furniture/Same Day",
                    "Furniture/Second Class",
                    "Furniture/Standard Class",
                    "Office Supplies/First Class",
                    "Office Supplies/Same Day",
                    "Office Supplies/Second Class",
                    "Office Supplies/Standard Class",
                    "Technology/First Class",
                    "Technology/Same Day",
                    "Technology/Second Class",
                    "Technology/Standard Class",
                    "Office Supplies/First Class",
                    "Office Supplies/Same Day",
                    "Office Supplies/Second Class",
                    "Office Supplies/Standard Class",
                    "Technology/First Class",
                    "Technology/Same Day",
                    "Technology/Second Class",
                    "Technology/Standard Class",
                    "Office Supplies/First Class",
                    "Office Supplies/Same Day",
                    "Office Supplies/Second Class",
                    "Office Supplies/Standard Class",
                    "Office Supplies/First Class",
                    "Office Supplies/Same Day",
                    "Office Supplies/Second Class",
                    "Office Supplies/Standard Class",
                    "Furniture/First Class",
                    "Furniture/Same Day",
                    "Furniture/Second Class",
                    "Furniture/Standard Class",
                    "Furniture",
                    "Office Supplies",
                    "Technology",
                    "Furniture",
                    "Office Supplies",
                    "Technology",
                    "Furniture",
                    "Office Supplies",
                    "Technology",
                    "Furniture",
                    "Office Supplies",
                    "Technology",
                    "",
                    "",
                    ""
                  ],
                  "type": "treemap",
                  "values": [
                    21954.082,
                    13777.224,
                    36986.907999999996,
                    91468.486,
                    15726.024,
                    6270.592000000001,
                    23833.669,
                    58788.118,
                    3426.498,
                    1418.324,
                    5149.262,
                    16711.326,
                    34850.355,
                    5819.505,
                    26857.202,
                    132501.723,
                    20681.8533,
                    2970.582,
                    22307.2129,
                    67853.5505,
                    46626.616,
                    21659.716,
                    72347.77,
                    182188.62900000002,
                    39369.630000000005,
                    4759.908,
                    18899.628,
                    83218.928,
                    2539.466,
                    790.476,
                    2673.95,
                    10124.154,
                    357.598,
                    139.752,
                    478.018,
                    2026.592,
                    12629.807999999999,
                    4849.8640000000005,
                    14739.744,
                    56992.602,
                    1772.474,
                    566.448,
                    3352.534,
                    6656.2699999999995,
                    24153.401,
                    22798.537,
                    22493.7,
                    119792.993,
                    10778.628,
                    4695.3279999999995,
                    17001.64,
                    44352.708,
                    53128.656,
                    15988.236,
                    62821.688,
                    195843.868,
                    25208.097999999998,
                    8559.89,
                    47329.732,
                    138245.672,
                    3568.294,
                    510.31,
                    29378.41,
                    12963.294,
                    28800.776,
                    9644.347,
                    43263.1115,
                    121102.3935,
                    108739.0533,
                    98227.435,
                    138605.769,
                    39124.509,
                    28770.625,
                    57323.905,
                    152657.8384,
                    156054.41700000002,
                    141201.924,
                    428137.17500000005,
                    422369.857,
                    490324.275,
                    728658.5757,
                    705422.334,
                    827455.873
                  ]
                }
              ],
              "layout": {
                "legend": {
                  "tracegroupgap": 0
                },
                "margin": {
                  "b": 50,
                  "l": 50,
                  "r": 50,
                  "t": 50
                },
                "template": {
                  "data": {
                    "bar": [
                      {
                        "error_x": {
                          "color": "#2a3f5f"
                        },
                        "error_y": {
                          "color": "#2a3f5f"
                        },
                        "marker": {
                          "line": {
                            "color": "#E5ECF6",
                            "width": 0.5
                          },
                          "pattern": {
                            "fillmode": "overlay",
                            "size": 10,
                            "solidity": 0.2
                          }
                        },
                        "type": "bar"
                      }
                    ],
                    "barpolar": [
                      {
                        "marker": {
                          "line": {
                            "color": "#E5ECF6",
                            "width": 0.5
                          },
                          "pattern": {
                            "fillmode": "overlay",
                            "size": 10,
                            "solidity": 0.2
                          }
                        },
                        "type": "barpolar"
                      }
                    ],
                    "carpet": [
                      {
                        "aaxis": {
                          "endlinecolor": "#2a3f5f",
                          "gridcolor": "white",
                          "linecolor": "white",
                          "minorgridcolor": "white",
                          "startlinecolor": "#2a3f5f"
                        },
                        "baxis": {
                          "endlinecolor": "#2a3f5f",
                          "gridcolor": "white",
                          "linecolor": "white",
                          "minorgridcolor": "white",
                          "startlinecolor": "#2a3f5f"
                        },
                        "type": "carpet"
                      }
                    ],
                    "choropleth": [
                      {
                        "colorbar": {
                          "outlinewidth": 0,
                          "ticks": ""
                        },
                        "type": "choropleth"
                      }
                    ],
                    "contour": [
                      {
                        "colorbar": {
                          "outlinewidth": 0,
                          "ticks": ""
                        },
                        "colorscale": [
                          [
                            0,
                            "#0d0887"
                          ],
                          [
                            0.1111111111111111,
                            "#46039f"
                          ],
                          [
                            0.2222222222222222,
                            "#7201a8"
                          ],
                          [
                            0.3333333333333333,
                            "#9c179e"
                          ],
                          [
                            0.4444444444444444,
                            "#bd3786"
                          ],
                          [
                            0.5555555555555556,
                            "#d8576b"
                          ],
                          [
                            0.6666666666666666,
                            "#ed7953"
                          ],
                          [
                            0.7777777777777778,
                            "#fb9f3a"
                          ],
                          [
                            0.8888888888888888,
                            "#fdca26"
                          ],
                          [
                            1,
                            "#f0f921"
                          ]
                        ],
                        "type": "contour"
                      }
                    ],
                    "contourcarpet": [
                      {
                        "colorbar": {
                          "outlinewidth": 0,
                          "ticks": ""
                        },
                        "type": "contourcarpet"
                      }
                    ],
                    "heatmap": [
                      {
                        "colorbar": {
                          "outlinewidth": 0,
                          "ticks": ""
                        },
                        "colorscale": [
                          [
                            0,
                            "#0d0887"
                          ],
                          [
                            0.1111111111111111,
                            "#46039f"
                          ],
                          [
                            0.2222222222222222,
                            "#7201a8"
                          ],
                          [
                            0.3333333333333333,
                            "#9c179e"
                          ],
                          [
                            0.4444444444444444,
                            "#bd3786"
                          ],
                          [
                            0.5555555555555556,
                            "#d8576b"
                          ],
                          [
                            0.6666666666666666,
                            "#ed7953"
                          ],
                          [
                            0.7777777777777778,
                            "#fb9f3a"
                          ],
                          [
                            0.8888888888888888,
                            "#fdca26"
                          ],
                          [
                            1,
                            "#f0f921"
                          ]
                        ],
                        "type": "heatmap"
                      }
                    ],
                    "heatmapgl": [
                      {
                        "colorbar": {
                          "outlinewidth": 0,
                          "ticks": ""
                        },
                        "colorscale": [
                          [
                            0,
                            "#0d0887"
                          ],
                          [
                            0.1111111111111111,
                            "#46039f"
                          ],
                          [
                            0.2222222222222222,
                            "#7201a8"
                          ],
                          [
                            0.3333333333333333,
                            "#9c179e"
                          ],
                          [
                            0.4444444444444444,
                            "#bd3786"
                          ],
                          [
                            0.5555555555555556,
                            "#d8576b"
                          ],
                          [
                            0.6666666666666666,
                            "#ed7953"
                          ],
                          [
                            0.7777777777777778,
                            "#fb9f3a"
                          ],
                          [
                            0.8888888888888888,
                            "#fdca26"
                          ],
                          [
                            1,
                            "#f0f921"
                          ]
                        ],
                        "type": "heatmapgl"
                      }
                    ],
                    "histogram": [
                      {
                        "marker": {
                          "pattern": {
                            "fillmode": "overlay",
                            "size": 10,
                            "solidity": 0.2
                          }
                        },
                        "type": "histogram"
                      }
                    ],
                    "histogram2d": [
                      {
                        "colorbar": {
                          "outlinewidth": 0,
                          "ticks": ""
                        },
                        "colorscale": [
                          [
                            0,
                            "#0d0887"
                          ],
                          [
                            0.1111111111111111,
                            "#46039f"
                          ],
                          [
                            0.2222222222222222,
                            "#7201a8"
                          ],
                          [
                            0.3333333333333333,
                            "#9c179e"
                          ],
                          [
                            0.4444444444444444,
                            "#bd3786"
                          ],
                          [
                            0.5555555555555556,
                            "#d8576b"
                          ],
                          [
                            0.6666666666666666,
                            "#ed7953"
                          ],
                          [
                            0.7777777777777778,
                            "#fb9f3a"
                          ],
                          [
                            0.8888888888888888,
                            "#fdca26"
                          ],
                          [
                            1,
                            "#f0f921"
                          ]
                        ],
                        "type": "histogram2d"
                      }
                    ],
                    "histogram2dcontour": [
                      {
                        "colorbar": {
                          "outlinewidth": 0,
                          "ticks": ""
                        },
                        "colorscale": [
                          [
                            0,
                            "#0d0887"
                          ],
                          [
                            0.1111111111111111,
                            "#46039f"
                          ],
                          [
                            0.2222222222222222,
                            "#7201a8"
                          ],
                          [
                            0.3333333333333333,
                            "#9c179e"
                          ],
                          [
                            0.4444444444444444,
                            "#bd3786"
                          ],
                          [
                            0.5555555555555556,
                            "#d8576b"
                          ],
                          [
                            0.6666666666666666,
                            "#ed7953"
                          ],
                          [
                            0.7777777777777778,
                            "#fb9f3a"
                          ],
                          [
                            0.8888888888888888,
                            "#fdca26"
                          ],
                          [
                            1,
                            "#f0f921"
                          ]
                        ],
                        "type": "histogram2dcontour"
                      }
                    ],
                    "mesh3d": [
                      {
                        "colorbar": {
                          "outlinewidth": 0,
                          "ticks": ""
                        },
                        "type": "mesh3d"
                      }
                    ],
                    "parcoords": [
                      {
                        "line": {
                          "colorbar": {
                            "outlinewidth": 0,
                            "ticks": ""
                          }
                        },
                        "type": "parcoords"
                      }
                    ],
                    "pie": [
                      {
                        "automargin": true,
                        "type": "pie"
                      }
                    ],
                    "scatter": [
                      {
                        "fillpattern": {
                          "fillmode": "overlay",
                          "size": 10,
                          "solidity": 0.2
                        },
                        "type": "scatter"
                      }
                    ],
                    "scatter3d": [
                      {
                        "line": {
                          "colorbar": {
                            "outlinewidth": 0,
                            "ticks": ""
                          }
                        },
                        "marker": {
                          "colorbar": {
                            "outlinewidth": 0,
                            "ticks": ""
                          }
                        },
                        "type": "scatter3d"
                      }
                    ],
                    "scattercarpet": [
                      {
                        "marker": {
                          "colorbar": {
                            "outlinewidth": 0,
                            "ticks": ""
                          }
                        },
                        "type": "scattercarpet"
                      }
                    ],
                    "scattergeo": [
                      {
                        "marker": {
                          "colorbar": {
                            "outlinewidth": 0,
                            "ticks": ""
                          }
                        },
                        "type": "scattergeo"
                      }
                    ],
                    "scattergl": [
                      {
                        "marker": {
                          "colorbar": {
                            "outlinewidth": 0,
                            "ticks": ""
                          }
                        },
                        "type": "scattergl"
                      }
                    ],
                    "scattermapbox": [
                      {
                        "marker": {
                          "colorbar": {
                            "outlinewidth": 0,
                            "ticks": ""
                          }
                        },
                        "type": "scattermapbox"
                      }
                    ],
                    "scatterpolar": [
                      {
                        "marker": {
                          "colorbar": {
                            "outlinewidth": 0,
                            "ticks": ""
                          }
                        },
                        "type": "scatterpolar"
                      }
                    ],
                    "scatterpolargl": [
                      {
                        "marker": {
                          "colorbar": {
                            "outlinewidth": 0,
                            "ticks": ""
                          }
                        },
                        "type": "scatterpolargl"
                      }
                    ],
                    "scatterternary": [
                      {
                        "marker": {
                          "colorbar": {
                            "outlinewidth": 0,
                            "ticks": ""
                          }
                        },
                        "type": "scatterternary"
                      }
                    ],
                    "surface": [
                      {
                        "colorbar": {
                          "outlinewidth": 0,
                          "ticks": ""
                        },
                        "colorscale": [
                          [
                            0,
                            "#0d0887"
                          ],
                          [
                            0.1111111111111111,
                            "#46039f"
                          ],
                          [
                            0.2222222222222222,
                            "#7201a8"
                          ],
                          [
                            0.3333333333333333,
                            "#9c179e"
                          ],
                          [
                            0.4444444444444444,
                            "#bd3786"
                          ],
                          [
                            0.5555555555555556,
                            "#d8576b"
                          ],
                          [
                            0.6666666666666666,
                            "#ed7953"
                          ],
                          [
                            0.7777777777777778,
                            "#fb9f3a"
                          ],
                          [
                            0.8888888888888888,
                            "#fdca26"
                          ],
                          [
                            1,
                            "#f0f921"
                          ]
                        ],
                        "type": "surface"
                      }
                    ],
                    "table": [
                      {
                        "cells": {
                          "fill": {
                            "color": "#EBF0F8"
                          },
                          "line": {
                            "color": "white"
                          }
                        },
                        "header": {
                          "fill": {
                            "color": "#C8D4E3"
                          },
                          "line": {
                            "color": "white"
                          }
                        },
                        "type": "table"
                      }
                    ]
                  },
                  "layout": {
                    "annotationdefaults": {
                      "arrowcolor": "#2a3f5f",
                      "arrowhead": 0,
                      "arrowwidth": 1
                    },
                    "autotypenumbers": "strict",
                    "coloraxis": {
                      "colorbar": {
                        "outlinewidth": 0,
                        "ticks": ""
                      }
                    },
                    "colorscale": {
                      "diverging": [
                        [
                          0,
                          "#8e0152"
                        ],
                        [
                          0.1,
                          "#c51b7d"
                        ],
                        [
                          0.2,
                          "#de77ae"
                        ],
                        [
                          0.3,
                          "#f1b6da"
                        ],
                        [
                          0.4,
                          "#fde0ef"
                        ],
                        [
                          0.5,
                          "#f7f7f7"
                        ],
                        [
                          0.6,
                          "#e6f5d0"
                        ],
                        [
                          0.7,
                          "#b8e186"
                        ],
                        [
                          0.8,
                          "#7fbc41"
                        ],
                        [
                          0.9,
                          "#4d9221"
                        ],
                        [
                          1,
                          "#276419"
                        ]
                      ],
                      "sequential": [
                        [
                          0,
                          "#0d0887"
                        ],
                        [
                          0.1111111111111111,
                          "#46039f"
                        ],
                        [
                          0.2222222222222222,
                          "#7201a8"
                        ],
                        [
                          0.3333333333333333,
                          "#9c179e"
                        ],
                        [
                          0.4444444444444444,
                          "#bd3786"
                        ],
                        [
                          0.5555555555555556,
                          "#d8576b"
                        ],
                        [
                          0.6666666666666666,
                          "#ed7953"
                        ],
                        [
                          0.7777777777777778,
                          "#fb9f3a"
                        ],
                        [
                          0.8888888888888888,
                          "#fdca26"
                        ],
                        [
                          1,
                          "#f0f921"
                        ]
                      ],
                      "sequentialminus": [
                        [
                          0,
                          "#0d0887"
                        ],
                        [
                          0.1111111111111111,
                          "#46039f"
                        ],
                        [
                          0.2222222222222222,
                          "#7201a8"
                        ],
                        [
                          0.3333333333333333,
                          "#9c179e"
                        ],
                        [
                          0.4444444444444444,
                          "#bd3786"
                        ],
                        [
                          0.5555555555555556,
                          "#d8576b"
                        ],
                        [
                          0.6666666666666666,
                          "#ed7953"
                        ],
                        [
                          0.7777777777777778,
                          "#fb9f3a"
                        ],
                        [
                          0.8888888888888888,
                          "#fdca26"
                        ],
                        [
                          1,
                          "#f0f921"
                        ]
                      ]
                    },
                    "colorway": [
                      "#636efa",
                      "#EF553B",
                      "#00cc96",
                      "#ab63fa",
                      "#FFA15A",
                      "#19d3f3",
                      "#FF6692",
                      "#B6E880",
                      "#FF97FF",
                      "#FECB52"
                    ],
                    "font": {
                      "color": "#2a3f5f"
                    },
                    "geo": {
                      "bgcolor": "white",
                      "lakecolor": "white",
                      "landcolor": "#E5ECF6",
                      "showlakes": true,
                      "showland": true,
                      "subunitcolor": "white"
                    },
                    "hoverlabel": {
                      "align": "left"
                    },
                    "hovermode": "closest",
                    "mapbox": {
                      "style": "light"
                    },
                    "paper_bgcolor": "white",
                    "plot_bgcolor": "#E5ECF6",
                    "polar": {
                      "angularaxis": {
                        "gridcolor": "white",
                        "linecolor": "white",
                        "ticks": ""
                      },
                      "bgcolor": "#E5ECF6",
                      "radialaxis": {
                        "gridcolor": "white",
                        "linecolor": "white",
                        "ticks": ""
                      }
                    },
                    "scene": {
                      "xaxis": {
                        "backgroundcolor": "#E5ECF6",
                        "gridcolor": "white",
                        "gridwidth": 2,
                        "linecolor": "white",
                        "showbackground": true,
                        "ticks": "",
                        "zerolinecolor": "white"
                      },
                      "yaxis": {
                        "backgroundcolor": "#E5ECF6",
                        "gridcolor": "white",
                        "gridwidth": 2,
                        "linecolor": "white",
                        "showbackground": true,
                        "ticks": "",
                        "zerolinecolor": "white"
                      },
                      "zaxis": {
                        "backgroundcolor": "#E5ECF6",
                        "gridcolor": "white",
                        "gridwidth": 2,
                        "linecolor": "white",
                        "showbackground": true,
                        "ticks": "",
                        "zerolinecolor": "white"
                      }
                    },
                    "shapedefaults": {
                      "line": {
                        "color": "#2a3f5f"
                      }
                    },
                    "ternary": {
                      "aaxis": {
                        "gridcolor": "white",
                        "linecolor": "white",
                        "ticks": ""
                      },
                      "baxis": {
                        "gridcolor": "white",
                        "linecolor": "white",
                        "ticks": ""
                      },
                      "bgcolor": "#E5ECF6",
                      "caxis": {
                        "gridcolor": "white",
                        "linecolor": "white",
                        "ticks": ""
                      }
                    },
                    "title": {
                      "x": 0.05
                    },
                    "xaxis": {
                      "automargin": true,
                      "gridcolor": "white",
                      "linecolor": "white",
                      "ticks": "",
                      "title": {
                        "standoff": 15
                      },
                      "zerolinecolor": "white",
                      "zerolinewidth": 2
                    },
                    "yaxis": {
                      "automargin": true,
                      "gridcolor": "white",
                      "linecolor": "white",
                      "ticks": "",
                      "title": {
                        "standoff": 15
                      },
                      "zerolinecolor": "white",
                      "zerolinewidth": 2
                    }
                  }
                }
              }
            }
          },
          "metadata": {},
          "output_type": "display_data"
        }
      ],
      "source": [
        "#Summarize the Sales data by category, Ship Mode and Category\n",
        "df_summary = df.groupby(['Category', 'Ship Mode', 'Sub-Category'])['Sales'].sum().reset_index()\n",
        "\n",
        "#Create a treemap\n",
        "fig = px.treemap(df_summary, path=['Category','Ship Mode', 'Sub-Category'], values='Sales')\n",
        "fig.update_layout(margin=dict(t=50, l=50, r=50, b=50))\n",
        "fig.write_image(f\"{output}/Sales_per_category_ship_mode_and_sub_category_treemap_chart.jpg\")\n",
        "fig.show()\n"
      ]
    }
  ],
  "metadata": {
    "colab": {
      "provenance": []
    },
    "kernelspec": {
      "display_name": "Python 3",
      "language": "python",
      "name": "python3"
    },
    "language_info": {
      "codemirror_mode": {
        "name": "ipython",
        "version": 3
      },
      "file_extension": ".py",
      "mimetype": "text/x-python",
      "name": "python",
      "nbconvert_exporter": "python",
      "pygments_lexer": "ipython3",
      "version": "3.12.2"
    }
  },
  "nbformat": 4,
  "nbformat_minor": 0
}
